{
 "cells": [
  {
   "cell_type": "markdown",
   "metadata": {},
   "source": [
    "# TensorFlow"
   ]
  },
  {
   "cell_type": "code",
   "execution_count": 10,
   "metadata": {},
   "outputs": [],
   "source": [
    "import glob                # 用于查询符合特定规则的文件路径名\n",
    "import os                  # 处理文件和目录\n",
    "os.environ[\"CUDA_DEVICE_ORDER\"] = \"PCI_BUS_ID\"\n",
    "os.environ[\"CUDA_VISIBLE_DEVICES\"] = \"-1\"\n",
    "import cv2                 # 用于图像处理\n",
    "from PIL import Image\n",
    "import  tensorflow as tf\n",
    "import numpy as np                #导入numpy数据库\n",
    "import matplotlib.pyplot as plt   #导入matplotlib.pyplot模块，主要用于展示图像\n",
    "from sklearn.model_selection import train_test_split   #从sklearn.model_selection模块导入train_test_split方法,用于拆分数据集"
   ]
  },
  {
   "cell_type": "markdown",
   "metadata": {},
   "source": [
    "## 数据扩充模块"
   ]
  },
  {
   "cell_type": "code",
   "execution_count": 2,
   "metadata": {},
   "outputs": [],
   "source": [
    "from keras.preprocessing.image import ImageDataGenerator\n",
    "from keras.preprocessing.image import img_to_array\n",
    "from keras.preprocessing.image import load_img\n",
    "\n",
    "# 数据扩充函数\n",
    "def date_enhancement(img_input_path, save_path):\n",
    "    image = load_img(img_input_path, grayscale=False)\n",
    "    image = img_to_array(image) #图像转为数组\n",
    "    image = np.expand_dims(image, axis=0) #增加一个维度\n",
    "    img_dag = ImageDataGenerator(rotation_range = 30, width_shift_range = 0.1,\n",
    "                            height_shift_range = 0.1, shear_range = 0.2, zoom_range = 0.2,\n",
    "                            horizontal_flip = True, fill_mode = \"nearest\") #旋转，宽度移动范围，高度移动范围，裁剪范围，水平翻转开启，填充模式\n",
    "\n",
    "    img_generator = img_dag.flow(image, batch_size = 1,\n",
    "                                 save_to_dir = save_path,\n",
    "                                 save_prefix = \"image\", save_format = \"jpg\")#测试一张图像bath_size=1\n",
    "    count = 0 #计数器\n",
    "    for img in img_generator:\n",
    "        count += 1\n",
    "        if count == 3:  #生成多少个样本后退出\n",
    "            break"
   ]
  },
  {
   "cell_type": "code",
   "execution_count": 3,
   "metadata": {},
   "outputs": [],
   "source": [
    "# 调用数据扩充函数，将扩充后的数据存储至源文件路径\n",
    "def turn_data(folder):\n",
    "    for im in glob.glob(folder+'/*.jpg'):\n",
    "        date_enhancement(im, folder)\n",
    "\n",
    "from PIL import ImageFile        \n",
    "ImageFile.LOAD_TRUNCATED_IMAGES = True\n",
    "path = './flower_photos/'\n",
    "cate=[path+x for x in os.listdir(path) if os.path.isdir(path+x)]  # 创建层级列表cate，用于对数据存放目录下面的数据文件夹进行遍历，os.path.isdir用于判断文件是否是目录，然后对是目录的文件(os.listdir(path))进行遍历\n",
    "for idx,folder in enumerate(cate):                                # enumerate函数用于将一个可遍历的数据对象组合为一个索引序列，同时列出数据和下标,一般用在for循环当中\n",
    "    turn_data(folder)"
   ]
  },
  {
   "cell_type": "markdown",
   "metadata": {},
   "source": [
    "## 读取数据"
   ]
  },
  {
   "cell_type": "code",
   "execution_count": 4,
   "metadata": {},
   "outputs": [],
   "source": [
    "path = './flower_photos/'   # 数据集的相对地址，改为你自己的，建议将数据集放入代码文件夹下\n",
    "# TODO 对图片进行缩放，统一处理为大小为w*h的图像，具体参数需自己定\n",
    "w = 100      #设置图片宽度为100\n",
    "h = 100      #设置图片高度为100\n",
    "c = 3        #设置图片通道为3"
   ]
  },
  {
   "cell_type": "code",
   "execution_count": 5,
   "metadata": {},
   "outputs": [],
   "source": [
    "flower_dict = {0:'bee_balm',1:'blackberry_lily',2:'blanket_flower',3:'bougainvillea',4:'bromelia',5:'foxglove'}  # 创建图像标签列表\n",
    "label_dict = {'bee_balm':0,'blackberry_lily':1,'blanket_flower':2,'bougainvillea':3,'bromelia':4,'foxglove':5}\n",
    "turn_label = [0, 1, 2, 3, 4, 5]       # 在线部署时，因文件夹读取顺序和本地不同，故需将label进行转换\n",
    "\n",
    "# 根据flower_dict将label转换为该花朵对应的值\n",
    "def turn_labels(path):                                      # 定义函数read_img，用于读取图像数据，并且对图像进行resize格式统一处理\n",
    "    cate=[path+x for x in os.listdir(path) if os.path.isdir(path+x)]  # 创建层级列表cate，用于对数据存放目录下面的数据文件夹进行遍历，os.path.isdir用于判断文件是否是目录，然后对是目录的文件(os.listdir(path))进行遍历\n",
    "    for idx,folder in enumerate(cate):                           # enumerate函数用于将一个可遍历的数据对象组合为一个索引序列，同时列出数据和下标,一般用在for循环当中    \n",
    "        name = folder.replace(path, '')\n",
    "        turn_label[idx] = label_dict[name]"
   ]
  },
  {
   "cell_type": "code",
   "execution_count": 6,
   "metadata": {},
   "outputs": [],
   "source": [
    "def read_img(path):                                                    # 定义函数read_img，用于读取图像数据，并且对图像进行resize格式统一处理\n",
    "    cate=[path+x for x in os.listdir(path) if os.path.isdir(path+x)]  # 创建层级列表cate，用于对数据存放目录下面的数据文件夹进行遍历，os.path.isdir用于判断文件是否是目录，然后对是目录的文件(os.listdir(path))进行遍历\n",
    "    imgs=[]                                                            # 创建保存图像的空列表\n",
    "    labels=[]                                                          # 创建用于保存图像标签的空列表\n",
    "    for idx,folder in enumerate(cate):                                # enumerate函数用于将一个可遍历的数据对象组合为一个索引序列，同时列出数据和下标,一般用在for循环当中\n",
    "        for im in glob.glob(folder+'/*.jpg'):                         # 利用glob.glob函数搜索每个层级文件下面符合特定格式“/*.jpg”的图片，并进行遍历\n",
    "\n",
    "            # 本地训练时的读取图像方式\n",
    "            img=cv2.imread(im)                                        # 利用cv2.imread函数读取每一张被遍历的图像并将其赋值给img\n",
    "            img=cv2.resize(img,(w,h))                                 # 利用cv2.resize函数对每张img图像进行大小缩放，统一处理为大小为w*h的图像\n",
    "\n",
    "            # 在线测试时的读取图像方式\n",
    "#             img = Image.open(im)\n",
    "#             img = np.array(img, dtype=np.float32)\n",
    "#             img.resize((w, h, 3))\n",
    "            \n",
    "            imgs.append(img)                                          # 将每张经过处理的图像数据保存在之前创建的imgs空列表当中\n",
    "            labels.append(turn_label[idx])                            # 将每张经过处理的图像的标签数据保存在之前创建的labels列表当中\n",
    "    return np.asarray(imgs,np.float32),np.asarray(labels,np.int32)   # 利用np.asarray函数对生成的imgs和labels列表数据进行转化，之后转化成数组数据（imgs转成浮点数型，labels转成整数型）"
   ]
  },
  {
   "cell_type": "code",
   "execution_count": 7,
   "metadata": {},
   "outputs": [
    {
     "name": "stdout",
     "output_type": "stream",
     "text": [
      "shape of data: (2033, 100, 100, 3)\n",
      "shape of label: (2033,)\n"
     ]
    }
   ],
   "source": [
    "turn_labels(path)\n",
    "data,label=read_img(path)                                              # 将read_img函数处理之后的数据定义为样本数据data和标签数据label\n",
    "print(\"shape of data:\",data.shape)                                     # 查看样本数据的大小\n",
    "print(\"shape of label:\",label.shape)                                   # 查看标签数据的大小"
   ]
  },
  {
   "cell_type": "markdown",
   "metadata": {},
   "source": [
    "## 模型定义与训练"
   ]
  },
  {
   "cell_type": "code",
   "execution_count": 8,
   "metadata": {},
   "outputs": [],
   "source": [
    "seed = 109             # 设置随机数种子，即seed值\n",
    "np.random.seed(seed)   # 保证生成的随机数具有可预测性,即相同的种子（seed值）所产生的随机数是相同的\n",
    "\n",
    "(x_train, x_val, y_train, y_val) = train_test_split(data, label, test_size=0.20, random_state=seed) #拆分数据集\n",
    "x_train = x_train / 255  #训练集图片标准化\n",
    "x_val = x_val / 255      #测试集图片标准化"
   ]
  },
  {
   "cell_type": "code",
   "execution_count": 55,
   "metadata": {},
   "outputs": [],
   "source": [
    "# Todo 根据设计好的模型结构自行实现模型\n",
    "data_augmentation = tf.keras.Sequential([\n",
    "    tf.keras.layers.RandomFlip(\"horizontal_and_vertical\")\n",
    "])\n",
    "\n",
    "model = tf.keras.Sequential([\n",
    "    data_augmentation,\n",
    "    tf.keras.layers.Conv2D(16, 3, activation='relu', padding='same', input_shape=(w, h, 3), kernel_regularizer=tf.keras.regularizers.l2(0.001)),\n",
    "    tf.keras.layers.MaxPooling2D(2, 2),\n",
    "    tf.keras.layers.Conv2D(32, 3, activation='relu', padding='same'),\n",
    "    tf.keras.layers.MaxPooling2D(2, 2),\n",
    "    tf.keras.layers.Conv2D(64, 3, activation='relu', padding='same'),\n",
    "    tf.keras.layers.MaxPooling2D(2, 2),\n",
    "    tf.keras.layers.Flatten(),\n",
    "    tf.keras.layers.Dropout(0.5),\n",
    "    tf.keras.layers.Dense(128, activation='relu'),\n",
    "    tf.keras.layers.Dropout(0.5),\n",
    "    tf.keras.layers.Dense(6, activation='softmax')\n",
    "])"
   ]
  },
  {
   "cell_type": "code",
   "execution_count": 56,
   "metadata": {},
   "outputs": [],
   "source": [
    "# Todo 可调整超参数lr，可修改优化器类型\n",
    "opt = tf.keras.optimizers.Adam(learning_rate=0.001)   #使用Adam优化器，优化模型参数。lr(learning rate, 学习率)\n",
    "\n",
    "# Todo 可选择其他损失函数\n",
    "#编译模型以供训练。使用多分类损失函数'sparse_categorical_crossentropy'，使用metrics=['accuracy']即评估模型在训练和测试时的性能的指标，使用的准确率。\n",
    "model.compile(optimizer=opt, \n",
    "              loss='sparse_categorical_crossentropy',\n",
    "              metrics=['accuracy'])"
   ]
  },
  {
   "cell_type": "code",
   "execution_count": 57,
   "metadata": {
    "scrolled": true
   },
   "outputs": [
    {
     "name": "stdout",
     "output_type": "stream",
     "text": [
      "Epoch 1/30\n",
      "\n",
      "Epoch 1: val_accuracy improved from -inf to 0.51843, saving model to ./model\\save_model.h5\n",
      "51/51 - 8s - loss: 1.4365 - accuracy: 0.4354 - val_loss: 1.2004 - val_accuracy: 0.5184 - 8s/epoch - 160ms/step\n",
      "Epoch 2/30\n",
      "\n",
      "Epoch 2: val_accuracy improved from 0.51843 to 0.61179, saving model to ./model\\save_model.h5\n",
      "51/51 - 7s - loss: 1.1574 - accuracy: 0.5492 - val_loss: 1.0103 - val_accuracy: 0.6118 - 7s/epoch - 144ms/step\n",
      "Epoch 3/30\n",
      "\n",
      "Epoch 3: val_accuracy did not improve from 0.61179\n",
      "51/51 - 7s - loss: 1.0659 - accuracy: 0.5941 - val_loss: 1.0828 - val_accuracy: 0.5946 - 7s/epoch - 143ms/step\n",
      "Epoch 4/30\n",
      "\n",
      "Epoch 4: val_accuracy improved from 0.61179 to 0.67568, saving model to ./model\\save_model.h5\n",
      "51/51 - 7s - loss: 0.9575 - accuracy: 0.6353 - val_loss: 0.8192 - val_accuracy: 0.6757 - 7s/epoch - 144ms/step\n",
      "Epoch 5/30\n",
      "\n",
      "Epoch 5: val_accuracy improved from 0.67568 to 0.76167, saving model to ./model\\save_model.h5\n",
      "51/51 - 7s - loss: 0.7930 - accuracy: 0.6943 - val_loss: 0.6525 - val_accuracy: 0.7617 - 7s/epoch - 139ms/step\n",
      "Epoch 6/30\n",
      "\n",
      "Epoch 6: val_accuracy improved from 0.76167 to 0.76413, saving model to ./model\\save_model.h5\n",
      "51/51 - 7s - loss: 0.7044 - accuracy: 0.7263 - val_loss: 0.6021 - val_accuracy: 0.7641 - 7s/epoch - 140ms/step\n",
      "Epoch 7/30\n",
      "\n",
      "Epoch 7: val_accuracy improved from 0.76413 to 0.82555, saving model to ./model\\save_model.h5\n",
      "51/51 - 7s - loss: 0.6092 - accuracy: 0.7731 - val_loss: 0.4563 - val_accuracy: 0.8256 - 7s/epoch - 139ms/step\n",
      "Epoch 8/30\n",
      "\n",
      "Epoch 8: val_accuracy improved from 0.82555 to 0.83047, saving model to ./model\\save_model.h5\n",
      "51/51 - 7s - loss: 0.5839 - accuracy: 0.7700 - val_loss: 0.4829 - val_accuracy: 0.8305 - 7s/epoch - 143ms/step\n",
      "Epoch 9/30\n",
      "\n",
      "Epoch 9: val_accuracy did not improve from 0.83047\n",
      "51/51 - 7s - loss: 0.5364 - accuracy: 0.8069 - val_loss: 0.5433 - val_accuracy: 0.7936 - 7s/epoch - 138ms/step\n",
      "Epoch 10/30\n",
      "\n",
      "Epoch 10: val_accuracy improved from 0.83047 to 0.86978, saving model to ./model\\save_model.h5\n",
      "51/51 - 7s - loss: 0.4413 - accuracy: 0.8413 - val_loss: 0.3793 - val_accuracy: 0.8698 - 7s/epoch - 139ms/step\n",
      "Epoch 11/30\n",
      "\n",
      "Epoch 11: val_accuracy improved from 0.86978 to 0.87961, saving model to ./model\\save_model.h5\n",
      "51/51 - 7s - loss: 0.3891 - accuracy: 0.8536 - val_loss: 0.3255 - val_accuracy: 0.8796 - 7s/epoch - 138ms/step\n",
      "Epoch 12/30\n",
      "\n",
      "Epoch 12: val_accuracy did not improve from 0.87961\n",
      "51/51 - 7s - loss: 0.3752 - accuracy: 0.8696 - val_loss: 0.3664 - val_accuracy: 0.8649 - 7s/epoch - 141ms/step\n",
      "Epoch 13/30\n",
      "\n",
      "Epoch 13: val_accuracy improved from 0.87961 to 0.91400, saving model to ./model\\save_model.h5\n",
      "51/51 - 7s - loss: 0.3220 - accuracy: 0.8868 - val_loss: 0.2850 - val_accuracy: 0.9140 - 7s/epoch - 139ms/step\n",
      "Epoch 14/30\n",
      "\n",
      "Epoch 14: val_accuracy did not improve from 0.91400\n",
      "51/51 - 7s - loss: 0.3000 - accuracy: 0.8918 - val_loss: 0.2578 - val_accuracy: 0.9017 - 7s/epoch - 139ms/step\n",
      "Epoch 15/30\n",
      "\n",
      "Epoch 15: val_accuracy did not improve from 0.91400\n",
      "51/51 - 7s - loss: 0.2961 - accuracy: 0.8875 - val_loss: 0.2529 - val_accuracy: 0.8894 - 7s/epoch - 139ms/step\n",
      "Epoch 16/30\n",
      "\n",
      "Epoch 16: val_accuracy did not improve from 0.91400\n",
      "51/51 - 7s - loss: 0.2665 - accuracy: 0.9034 - val_loss: 0.3530 - val_accuracy: 0.8722 - 7s/epoch - 139ms/step\n",
      "Epoch 17/30\n",
      "\n",
      "Epoch 17: val_accuracy did not improve from 0.91400\n",
      "51/51 - 7s - loss: 0.1956 - accuracy: 0.9416 - val_loss: 0.2555 - val_accuracy: 0.9042 - 7s/epoch - 140ms/step\n",
      "Epoch 18/30\n",
      "\n",
      "Epoch 18: val_accuracy improved from 0.91400 to 0.93612, saving model to ./model\\save_model.h5\n",
      "51/51 - 7s - loss: 0.2176 - accuracy: 0.9219 - val_loss: 0.1744 - val_accuracy: 0.9361 - 7s/epoch - 144ms/step\n",
      "Epoch 19/30\n",
      "\n",
      "Epoch 19: val_accuracy improved from 0.93612 to 0.93857, saving model to ./model\\save_model.h5\n",
      "51/51 - 8s - loss: 0.2068 - accuracy: 0.9311 - val_loss: 0.1624 - val_accuracy: 0.9386 - 8s/epoch - 152ms/step\n",
      "Epoch 20/30\n",
      "\n",
      "Epoch 20: val_accuracy improved from 0.93857 to 0.94103, saving model to ./model\\save_model.h5\n",
      "51/51 - 9s - loss: 0.2093 - accuracy: 0.9268 - val_loss: 0.1668 - val_accuracy: 0.9410 - 9s/epoch - 173ms/step\n",
      "Epoch 21/30\n",
      "\n",
      "Epoch 21: val_accuracy did not improve from 0.94103\n",
      "51/51 - 9s - loss: 0.1721 - accuracy: 0.9397 - val_loss: 0.2543 - val_accuracy: 0.8845 - 9s/epoch - 171ms/step\n",
      "Epoch 22/30\n",
      "\n",
      "Epoch 22: val_accuracy improved from 0.94103 to 0.94349, saving model to ./model\\save_model.h5\n",
      "51/51 - 8s - loss: 0.1481 - accuracy: 0.9526 - val_loss: 0.1662 - val_accuracy: 0.9435 - 8s/epoch - 157ms/step\n",
      "Epoch 23/30\n",
      "\n",
      "Epoch 23: val_accuracy did not improve from 0.94349\n",
      "51/51 - 8s - loss: 0.1831 - accuracy: 0.9397 - val_loss: 0.1728 - val_accuracy: 0.9337 - 8s/epoch - 154ms/step\n",
      "Epoch 24/30\n",
      "\n",
      "Epoch 24: val_accuracy did not improve from 0.94349\n",
      "51/51 - 8s - loss: 0.1422 - accuracy: 0.9483 - val_loss: 0.2460 - val_accuracy: 0.9017 - 8s/epoch - 153ms/step\n",
      "Epoch 25/30\n",
      "\n",
      "Epoch 25: val_accuracy did not improve from 0.94349\n",
      "51/51 - 8s - loss: 0.1648 - accuracy: 0.9446 - val_loss: 0.2281 - val_accuracy: 0.9091 - 8s/epoch - 151ms/step\n",
      "Epoch 26/30\n",
      "\n",
      "Epoch 26: val_accuracy did not improve from 0.94349\n",
      "51/51 - 8s - loss: 0.2066 - accuracy: 0.9311 - val_loss: 0.2568 - val_accuracy: 0.9017 - 8s/epoch - 153ms/step\n",
      "Epoch 27/30\n",
      "\n",
      "Epoch 27: val_accuracy improved from 0.94349 to 0.95577, saving model to ./model\\save_model.h5\n",
      "51/51 - 8s - loss: 0.1370 - accuracy: 0.9545 - val_loss: 0.1206 - val_accuracy: 0.9558 - 8s/epoch - 151ms/step\n",
      "Epoch 28/30\n",
      "\n",
      "Epoch 28: val_accuracy did not improve from 0.95577\n",
      "51/51 - 8s - loss: 0.1273 - accuracy: 0.9576 - val_loss: 0.1293 - val_accuracy: 0.9435 - 8s/epoch - 150ms/step\n",
      "Epoch 29/30\n",
      "\n",
      "Epoch 29: val_accuracy improved from 0.95577 to 0.96314, saving model to ./model\\save_model.h5\n",
      "51/51 - 8s - loss: 0.1034 - accuracy: 0.9631 - val_loss: 0.1077 - val_accuracy: 0.9631 - 8s/epoch - 149ms/step\n",
      "Epoch 30/30\n",
      "\n",
      "Epoch 30: val_accuracy did not improve from 0.96314\n",
      "51/51 - 7s - loss: 0.0920 - accuracy: 0.9686 - val_loss: 0.1396 - val_accuracy: 0.9410 - 7s/epoch - 146ms/step\n",
      "Model: \"sequential_11\"\n",
      "_________________________________________________________________\n",
      " Layer (type)                Output Shape              Param #   \n",
      "=================================================================\n",
      " sequential_10 (Sequential)  (None, 100, 100, 3)       0         \n",
      "                                                                 \n",
      " conv2d_15 (Conv2D)          (None, 100, 100, 16)      448       \n",
      "                                                                 \n",
      " max_pooling2d_15 (MaxPoolin  (None, 50, 50, 16)       0         \n",
      " g2D)                                                            \n",
      "                                                                 \n",
      " conv2d_16 (Conv2D)          (None, 50, 50, 32)        4640      \n",
      "                                                                 \n",
      " max_pooling2d_16 (MaxPoolin  (None, 25, 25, 32)       0         \n",
      " g2D)                                                            \n",
      "                                                                 \n",
      " conv2d_17 (Conv2D)          (None, 25, 25, 64)        18496     \n",
      "                                                                 \n",
      " max_pooling2d_17 (MaxPoolin  (None, 12, 12, 64)       0         \n",
      " g2D)                                                            \n",
      "                                                                 \n",
      " flatten_5 (Flatten)         (None, 9216)              0         \n",
      "                                                                 \n",
      " dropout_10 (Dropout)        (None, 9216)              0         \n",
      "                                                                 \n",
      " dense_10 (Dense)            (None, 128)               1179776   \n",
      "                                                                 \n",
      " dropout_11 (Dropout)        (None, 128)               0         \n",
      "                                                                 \n",
      " dense_11 (Dense)            (None, 6)                 774       \n",
      "                                                                 \n",
      "=================================================================\n",
      "Total params: 1,204,134\n",
      "Trainable params: 1,204,134\n",
      "Non-trainable params: 0\n",
      "_________________________________________________________________\n"
     ]
    }
   ],
   "source": [
    "# Todo 可调整超参数\n",
    "#训练模型，决定训练集和验证集，batch size：进行梯度下降训练模型时每个batch包含的样本数。\n",
    "#verbose：日志显示，0为不在标准输出流输出日志信息，1为输出进度条记录，2为每个epoch输出一行记录\n",
    "# model_name = 'model_ex-{epoch:03d}_acc-{val_accuracy:03f}.h5'\n",
    "model_name = 'save_model.h5'\n",
    "trained_model_dir=f'./model/'\n",
    "os.mkdir(trained_model_dir)\n",
    "model_path = os.path.join(trained_model_dir, model_name)\n",
    "\n",
    "\n",
    "checkpoint = tf.keras.callbacks.ModelCheckpoint(\n",
    "             filepath=model_path,\n",
    "             monitor='val_accuracy',\n",
    "             verbose=1,\n",
    "             save_weights_only=False,\n",
    "             save_best_only=True,\n",
    "             mode='max')\n",
    "\n",
    "patience = 100\n",
    "earlystop = tf.keras.callbacks.EarlyStopping(\n",
    "  monitor='val_accuracy', min_delta=0.0001,\n",
    "  patience=patience)\n",
    "\n",
    "epochs = 30\n",
    "hist = model.fit(x_train, y_train, \n",
    "          epochs=epochs, \n",
    "          shuffle=True,\n",
    "          callbacks=[earlystop, checkpoint],\n",
    "          validation_data=(x_val, y_val), \n",
    "          batch_size=32, \n",
    "          verbose=2)\n",
    "#输出模型的结构和参数量,如果没有定义好模型或者模型参数有问题，运行会出错\n",
    "model.summary()"
   ]
  },
  {
   "cell_type": "code",
   "execution_count": 58,
   "metadata": {},
   "outputs": [
    {
     "data": {
      "image/png": "[encoded data removed]",
      "text/plain": [
       "<Figure size 432x288 with 1 Axes>"
      ]
     },
     "metadata": {
      "needs_background": "light"
     },
     "output_type": "display_data"
    }
   ],
   "source": [
    "plt.plot(hist.history['loss'],color='r')\n",
    "plt.plot(hist.history['val_loss'],color='g')\n",
    "plt.plot(hist.history['accuracy'],color='b')\n",
    "plt.plot(hist.history['val_accuracy'],color='k')\n",
    "plt.title('model loss and accuracy')\n",
    "plt.ylabel('loss')\n",
    "plt.xlabel('epoch')\n",
    "plt.legend(['train_loss', 'test_loss','train_acc', 'test_acc'], loc='upper left')\n",
    "plt.show()"
   ]
  },
  {
   "cell_type": "markdown",
   "metadata": {},
   "source": [
    "## 测试集测试"
   ]
  },
  {
   "cell_type": "markdown",
   "metadata": {},
   "source": [
    "### 本地训练模型测试"
   ]
  },
  {
   "cell_type": "code",
   "execution_count": 59,
   "metadata": {},
   "outputs": [
    {
     "name": "stdout",
     "output_type": "stream",
     "text": [
      "0.9631449631449631\n"
     ]
    }
   ],
   "source": [
    "# 读取存储的最佳适配模型\n",
    "model = tf.keras.models.load_model('./model/save_model.h5')\n",
    "prediction = np.argmax(model.predict(x_val), axis=1)\n",
    "\n",
    "correct = [1 if y_val[idx]==pred_label else 0 for idx, pred_label in enumerate(prediction)]\n",
    "print(sum(correct) / len(correct))"
   ]
  },
  {
   "cell_type": "code",
   "execution_count": 60,
   "metadata": {},
   "outputs": [],
   "source": [
    "test_path = './TestImages\\\\' # 测试图像的地址 （改为自己的）"
   ]
  },
  {
   "cell_type": "code",
   "execution_count": 61,
   "metadata": {},
   "outputs": [
    {
     "name": "stdout",
     "output_type": "stream",
     "text": [
      "reading the images:bee_balm\n",
      "reading the images:blackberry_lily\n",
      "reading the images:blanket_flower\n",
      "reading the images:bougainvillea\n",
      "reading the images:bromelia\n",
      "reading the images:foxglove\n",
      "shape of data: (6, 100, 100, 3)\n"
     ]
    }
   ],
   "source": [
    "imgs=[]                                                 # 创建保存图像的空列表 \n",
    "numbers = [0, 0, 0, 0, 0, 0]                                   \n",
    "for idx, im in enumerate(glob.glob(test_path+'/*.jpg')):               # 利用glob.glob函数搜索每个层级文件下面符合特定格式“/*.jpg”进行遍历\n",
    "    flower = im.replace(test_path, '')\n",
    "    flower = flower.replace(\".jpg\", '')\n",
    "    flower = flower.replace(\"/\", '')\n",
    "    numbers[idx] = label_dict[flower]\n",
    "    print('reading the images:%s'%(flower))                # 遍历图像的同时，打印每张图片的“路径+名称”信息\n",
    "    \n",
    "    # 本地训练时的读取图像方式\n",
    "    img=cv2.imread(im)                                        # 利用cv2.imread函数读取每一张被遍历的图像并将其赋值给img\n",
    "    img=cv2.resize(img,(w,h))                                 # 利用cv2.resize函数对每张img图像进行大小缩放，统一处理为大小为w*h的图像\n",
    "\n",
    "    # 在线测试时的读取图像方式\n",
    "#     img = Image.open(im)\n",
    "#     img = np.array(img, dtype=np.float32)\n",
    "#     img.resize((w, h, 3))\n",
    "\n",
    "    imgs.append(img)                                    # 将每张经过处理的图像数据保存在之前创建的imgs空列表当中\n",
    "\n",
    "imgs = np.asarray(imgs,np.float32)                      # 利用np.asarray()函数对imgs进行数据转换\n",
    "print(\"shape of data:\",imgs.shape)"
   ]
  },
  {
   "cell_type": "code",
   "execution_count": 62,
   "metadata": {},
   "outputs": [
    {
     "name": "stdout",
     "output_type": "stream",
     "text": [
      "正确率： 1.0\n",
      "第 1 朵花预测:bee_balm\n",
      "第 2 朵花预测:blackberry_lily\n",
      "第 3 朵花预测:blanket_flower\n",
      "第 4 朵花预测:bougainvillea\n",
      "第 5 朵花预测:bromelia\n",
      "第 6 朵花预测:foxglove\n"
     ]
    }
   ],
   "source": [
    "prediction = np.argmax(model.predict(imgs), axis=1)\n",
    "\n",
    "correct = [1 if numbers[idx]==pred_label else 0 for idx, pred_label in enumerate(prediction)]\n",
    "print(\"正确率：\", sum(correct) / len(correct))\n",
    "#绘制预测图像\n",
    "for i in range(np.size(prediction)):\n",
    "    #打印每张图像的预测结果\n",
    "    print(\"第\",i+1,\"朵花预测:\"+flower_dict[prediction[i]])  # flower_dict:定义的标签列表，prediction[i]：预测的结果\n",
    "#     img = plt.imread(path_test+\"test\"+str(i+1)+\".jpg\")      # 使用imread()函数读入对应的图片\n",
    "#     plt.imshow(img)              #展示图片\n",
    "#     plt.show()                   #显示图片"
   ]
  },
  {
   "cell_type": "markdown",
   "metadata": {},
   "source": [
    "### 在线训练模型本地测试"
   ]
  },
  {
   "cell_type": "code",
   "execution_count": 36,
   "metadata": {
    "scrolled": false
   },
   "outputs": [
    {
     "name": "stdout",
     "output_type": "stream",
     "text": [
      "正确率： 1.0\n",
      "第 1 朵花预测: bee_balm\n",
      "第 2 朵花预测: blackberry_lily\n",
      "第 3 朵花预测: blanket_flower\n",
      "第 4 朵花预测: bougainvillea\n",
      "第 5 朵花预测: bromelia\n",
      "第 6 朵花预测: foxglove\n"
     ]
    }
   ],
   "source": [
    "online_model = tf.saved_model.load(\"./\")\n",
    "signature_defs = online_model.signatures.keys()\n",
    "signature = []\n",
    "for signature_def in signature_defs:\n",
    "    signature.append(signature_def)\n",
    "\n",
    "if len(signature) == 1:\n",
    "    model_signature = signature[0]\n",
    "    \n",
    "predict = online_model.signatures[model_signature]\n",
    "label_list = ['bee_balm', 'blackberry_lily', 'blanket_flower', 'bougainvillea', 'bromelia', 'foxglove']\n",
    "result_flower = []\n",
    "result_label = []\n",
    "\n",
    "for idx, img in enumerate(imgs):\n",
    "    img = [img]\n",
    "    images = tf.convert_to_tensor(img, dtype=tf.dtypes.float32)\n",
    "    outputs = {}\n",
    "    logits = predict(images)['dense_1'].numpy()[0].tolist()\n",
    "    label_index = logits.index(max(logits))\n",
    "    logits = ['%.4f' % logit for logit in logits]\n",
    "    outputs['predicted_label'] = label_list[label_index]\n",
    "    scores = dict(zip(label_list, logits))\n",
    "    scores = sorted(scores.items(), key=lambda item: item[1], reverse=True)[:5]\n",
    "    outputs['scores'] = scores\n",
    "    result_flower.append(outputs['predicted_label'])\n",
    "    result_label.append(label_dict[outputs['predicted_label']] == numbers[idx])\n",
    "\n",
    "print(\"正确率：\", sum(result_label) / len(result_label))\n",
    "for i in range(6):\n",
    "    print(\"第\", i + 1, \"朵花预测:\", result_flower[i])"
   ]
  },
  {
   "cell_type": "code",
   "execution_count": null,
   "metadata": {},
   "outputs": [],
   "source": []
  }
 ],
 "metadata": {
  "kernelspec": {
   "display_name": "Python 3 (ipykernel)",
   "language": "python",
   "name": "python3"
  },
  "language_info": {
   "codemirror_mode": {
    "name": "ipython",
    "version": 3
   },
   "file_extension": ".py",
   "mimetype": "text/x-python",
   "name": "python",
   "nbconvert_exporter": "python",
   "pygments_lexer": "ipython3",
   "version": "3.8.13"
  }
 },
 "nbformat": 4,
 "nbformat_minor": 4
}
