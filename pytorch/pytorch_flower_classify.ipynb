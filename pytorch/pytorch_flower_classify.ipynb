{
 "cells": [
  {
   "cell_type": "code",
   "execution_count": 52,
   "metadata": {},
   "outputs": [],
   "source": [
    "import glob\n",
    "import os\n",
    "import time\n",
    "\n",
    "import cv2\n",
    "import numpy as np\n",
    "\n",
    "import torch\n",
    "import torch.nn as nn\n",
    "from torch.utils.data import Dataset\n",
    "from torch.utils.data import DataLoader\n",
    "\n",
    "from torch.nn import CrossEntropyLoss\n",
    "from torch.optim import Adam\n",
    "\n",
    "from torch.utils.tensorboard import SummaryWriter\n",
    "\n",
    "from copy import deepcopy\n",
    "from sklearn.model_selection import train_test_split\n",
    "from sklearn.metrics import accuracy_score, classification_report"
   ]
  },
  {
   "cell_type": "markdown",
   "metadata": {},
   "source": [
    "#### 数据预处理\n"
   ]
  },
  {
   "cell_type": "code",
   "execution_count": 53,
   "metadata": {},
   "outputs": [],
   "source": [
    "path = '../flower_photos/'\n",
    "w = 100\n",
    "h = 100\n",
    "c = 3"
   ]
  },
  {
   "cell_type": "code",
   "execution_count": 54,
   "metadata": {},
   "outputs": [],
   "source": [
    "def read_img(path):\n",
    "    cate=[path+x for x in os.listdir(path) if os.path.isdir(path+x)] \n",
    "    imgs = []\n",
    "    labels = []\n",
    "    for idx, folder in enumerate(cate):\n",
    "        for im in glob.glob(folder + '/*.jpg'):\n",
    "            img = cv2.imread(im)\n",
    "            img = cv2.resize(img, (w, h))\n",
    "            imgs.append(img)\n",
    "            labels.append(idx)\n",
    "    return np.asarray(imgs, np.float32), np.asarray(labels, np.int32)"
   ]
  },
  {
   "cell_type": "code",
   "execution_count": 55,
   "metadata": {},
   "outputs": [
    {
     "data": {
      "text/plain": [
       "(torch.Size([739, 3, 100, 100]), torch.Size([739]))"
      ]
     },
     "execution_count": 55,
     "metadata": {},
     "output_type": "execute_result"
    }
   ],
   "source": [
    "data, label = read_img(path)\n",
    "\n",
    "data = torch.FloatTensor(data).permute(0, 3, 1, 2)\n",
    "label = torch.LongTensor(label)\n",
    "\n",
    "data.shape, label.shape"
   ]
  },
  {
   "cell_type": "code",
   "execution_count": 56,
   "metadata": {},
   "outputs": [],
   "source": [
    "seed = 109\n",
    "np.random.seed(seed)\n",
    "\n",
    "(x_train, x_val, y_train, y_val) = train_test_split(data, label, test_size=0.20, random_state=seed)\n",
    "x_train = x_train / 255\n",
    "x_val = x_val / 255\n",
    "\n",
    "flower_dict = {0:'bee', 1:'blackberry', 2:'blanket', 3:'bougainvilliea', 4:'bromelia', 5:'foxglove'}\n",
    "class_list = ['bee', 'blackberry', 'blanket', 'bougainvilliea', 'bromelia', 'foxglove']"
   ]
  },
  {
   "cell_type": "markdown",
   "metadata": {},
   "source": [
    "#### TORCH框架"
   ]
  },
  {
   "cell_type": "code",
   "execution_count": 57,
   "metadata": {},
   "outputs": [],
   "source": [
    "class FlowerDataset(Dataset):\n",
    "    def __init__(self, data, label):\n",
    "        super(FlowerDataset, self).__init__()\n",
    "        self.data = data\n",
    "        self.label = label\n",
    "    \n",
    "    def __len__(self):\n",
    "        return len(self.data)\n",
    "\n",
    "    def __getitem__(self, idx):\n",
    "        return self.data[idx], self.label[idx]"
   ]
  },
  {
   "cell_type": "code",
   "execution_count": 58,
   "metadata": {},
   "outputs": [],
   "source": [
    "'''\n",
    "    model\n",
    "    采取和tf一样的CNN架构\n",
    "'''\n",
    "class MyModel(nn.Module):\n",
    "    def __init__(self):\n",
    "        super(MyModel, self).__init__()\n",
    "\n",
    "        self.conv_model = nn.Sequential(\n",
    "            nn.Conv2d(3, 16, 3, padding=1),\n",
    "            nn.ReLU(),\n",
    "            nn.MaxPool2d(2, 2),\n",
    "            nn.Conv2d(16, 32, 3, padding=1),\n",
    "            nn.ReLU(),\n",
    "            nn.MaxPool2d(2, 2),\n",
    "            nn.Conv2d(32, 64, 3, padding=1),\n",
    "            nn.ReLU(),\n",
    "            nn.MaxPool2d(2, 2),\n",
    "        )\n",
    "\n",
    "        self.fc = nn.Sequential(\n",
    "            nn.Dropout(0.5),\n",
    "            nn.Linear(12*12*64, 128),\n",
    "            nn.ReLU(),\n",
    "            nn.Dropout(0.5),\n",
    "            nn.Linear(128, 6),\n",
    "        )\n",
    "\n",
    "    def forward(self, data):\n",
    "        x = self.conv_model(data)\n",
    "        x = x.view(x.size()[0], -1)\n",
    "        x = self.fc(x)\n",
    "        return x"
   ]
  },
  {
   "cell_type": "code",
   "execution_count": 59,
   "metadata": {},
   "outputs": [],
   "source": [
    "num_epochs = 100"
   ]
  },
  {
   "cell_type": "markdown",
   "metadata": {},
   "source": [
    "#### TRAIN AND EVAL"
   ]
  },
  {
   "cell_type": "code",
   "execution_count": 60,
   "metadata": {},
   "outputs": [],
   "source": [
    "class Stat:\n",
    "    def __init__(self, training, writer=None):\n",
    "        self.step = 0\n",
    "        self.loss = []\n",
    "        self.labels = []\n",
    "        self.pred_labels = []\n",
    "        self.training = training\n",
    "        self.writer = writer\n",
    "    \n",
    "    def add(self, pred, labels, loss):\n",
    "        labels = labels.numpy()\n",
    "        pred = pred.detach().numpy()\n",
    "        pred_labels = np.argmax(pred, axis = 1)\n",
    "        self.loss.append(loss)\n",
    "        self.labels.extend(labels)\n",
    "        self.pred_labels.extend(pred_labels)\n",
    "\n",
    "    def log(self):\n",
    "        self.step += 1\n",
    "        acc = accuracy_score(self.labels, self.pred_labels)\n",
    "        loss = sum(self.loss) / len(self.loss)\n",
    "        self.loss = []\n",
    "        self.labels = []\n",
    "        self.pred_labels = []\n",
    "        if not self.writer:\n",
    "            return loss, acc\n",
    "        if self.training:\n",
    "            self.writer.add_scalar('train_loss', loss, self.step)\n",
    "            self.writer.add_scalar('train_acc', acc, self.step)\n",
    "        else:\n",
    "            self.writer.add_scalar('dev_loss', loss, self.step)\n",
    "            self.writer.add_scalar('dev_acc', acc, self.step)\n",
    "        return loss, acc"
   ]
  },
  {
   "cell_type": "code",
   "execution_count": 61,
   "metadata": {},
   "outputs": [],
   "source": [
    "def train(model, train_data_loader, dev_data_loader):\n",
    "    loss_func = CrossEntropyLoss()\n",
    "    optimizer = Adam(\n",
    "        model.parameters(),\n",
    "        lr=0.001,\n",
    "        weight_decay=0.01,\n",
    "    )\n",
    "\n",
    "    writer = SummaryWriter('./summary/' + time.strftime('%m-%d_%H.%M', time.localtime()))\n",
    "    train_stat = Stat(training=True, writer=writer)\n",
    "    dev_stat = Stat(training=False, writer=writer)\n",
    "\n",
    "\n",
    "    best_acc, best_net = 0.0, None\n",
    "    for epoch in range(num_epochs):\n",
    "        print(f\"--- epoch: {epoch + 1} ---\")\n",
    "        for iter, batch in enumerate(train_data_loader):\n",
    "            model.train()\n",
    "            data, labels = batch[0], batch[1]\n",
    "            pred_outputs = model(data)\n",
    "            loss = loss_func(pred_outputs, labels)\n",
    "            optimizer.zero_grad()\n",
    "            loss.backward()\n",
    "            optimizer.step()\n",
    "            train_stat.add(pred_outputs, labels, loss.item())\n",
    "            \n",
    "        train_loss, train_acc = train_stat.log()\n",
    "\n",
    "        model.eval()\n",
    "        with torch.no_grad():\n",
    "            for batch in dev_data_loader:\n",
    "                data, labels = batch[0], batch[1]\n",
    "                pred_outputs = model(data)\n",
    "                loss = loss_func(pred_outputs, labels)\n",
    "                dev_stat.add(pred_outputs, labels, loss.item())\n",
    "        dev_loss, dev_acc = dev_stat.log()\n",
    "        print(  f\"training loss: {train_loss:.4f}, acc: {train_acc:.2%}, \" \\\n",
    "                f\"dev loss: {dev_loss:.4f}, acc: {dev_acc:.2%}.\")\n",
    "\n",
    "        if dev_acc > best_acc:\n",
    "            best_acc = dev_acc\n",
    "            best_net = deepcopy(model.state_dict())\n",
    "            \n",
    "    print(f\"best dev acc: {best_acc:.4f}\")\n",
    "    return best_net"
   ]
  },
  {
   "cell_type": "code",
   "execution_count": 62,
   "metadata": {},
   "outputs": [],
   "source": [
    "model_path = f'C:\\\\Users\\zzzgry\\Desktop\\midspore_lab2\\model\\\\pytorch\\\\model-'+time.strftime('%m-%d_%H.%M', time.localtime())+'.pkl'"
   ]
  },
  {
   "cell_type": "code",
   "execution_count": 63,
   "metadata": {},
   "outputs": [],
   "source": [
    "train_set = FlowerDataset(x_train, y_train)\n",
    "dev_set = FlowerDataset(x_val, y_val)\n",
    "\n",
    "train_data_loader = DataLoader(train_set, 32, True)\n",
    "dev_data_loader = DataLoader(dev_set, 32, False)"
   ]
  },
  {
   "cell_type": "code",
   "execution_count": 64,
   "metadata": {},
   "outputs": [
    {
     "name": "stdout",
     "output_type": "stream",
     "text": [
      "--- epoch: 1 ---\n",
      "training loss: 1.6555, acc: 29.61%, dev loss: 1.4652, acc: 40.54%.\n",
      "--- epoch: 2 ---\n",
      "training loss: 1.4485, acc: 42.64%, dev loss: 1.3301, acc: 46.62%.\n",
      "--- epoch: 3 ---\n",
      "training loss: 1.2410, acc: 50.25%, dev loss: 1.1420, acc: 56.76%.\n",
      "--- epoch: 4 ---\n",
      "training loss: 1.1846, acc: 54.82%, dev loss: 1.0716, acc: 64.86%.\n",
      "--- epoch: 5 ---\n",
      "training loss: 1.0426, acc: 63.45%, dev loss: 1.0192, acc: 62.16%.\n",
      "--- epoch: 6 ---\n",
      "training loss: 0.9621, acc: 66.33%, dev loss: 1.0660, acc: 62.16%.\n",
      "--- epoch: 7 ---\n",
      "training loss: 0.9658, acc: 63.96%, dev loss: 1.0012, acc: 64.19%.\n",
      "--- epoch: 8 ---\n",
      "training loss: 0.9580, acc: 64.47%, dev loss: 1.0590, acc: 56.76%.\n",
      "--- epoch: 9 ---\n",
      "training loss: 0.9199, acc: 66.16%, dev loss: 1.0345, acc: 61.49%.\n",
      "--- epoch: 10 ---\n",
      "training loss: 0.9128, acc: 66.50%, dev loss: 0.9766, acc: 63.51%.\n",
      "--- epoch: 11 ---\n",
      "training loss: 0.8681, acc: 66.67%, dev loss: 0.9111, acc: 66.22%.\n",
      "--- epoch: 12 ---\n",
      "training loss: 0.8240, acc: 71.24%, dev loss: 0.8728, acc: 67.57%.\n",
      "--- epoch: 13 ---\n",
      "training loss: 0.7578, acc: 73.27%, dev loss: 0.8677, acc: 68.24%.\n",
      "--- epoch: 14 ---\n",
      "training loss: 0.7958, acc: 70.39%, dev loss: 0.8870, acc: 66.89%.\n",
      "--- epoch: 15 ---\n",
      "training loss: 0.7147, acc: 74.96%, dev loss: 0.8917, acc: 65.54%.\n",
      "--- epoch: 16 ---\n",
      "training loss: 0.7017, acc: 74.11%, dev loss: 0.9006, acc: 66.22%.\n",
      "--- epoch: 17 ---\n",
      "training loss: 0.7593, acc: 71.57%, dev loss: 0.8568, acc: 65.54%.\n",
      "--- epoch: 18 ---\n",
      "training loss: 0.6839, acc: 73.77%, dev loss: 0.8527, acc: 68.24%.\n",
      "--- epoch: 19 ---\n",
      "training loss: 0.6431, acc: 77.83%, dev loss: 0.8055, acc: 67.57%.\n",
      "--- epoch: 20 ---\n",
      "training loss: 0.5932, acc: 79.36%, dev loss: 0.9184, acc: 66.89%.\n",
      "--- epoch: 21 ---\n",
      "training loss: 0.6359, acc: 77.33%, dev loss: 0.8437, acc: 66.22%.\n",
      "--- epoch: 22 ---\n",
      "training loss: 0.6100, acc: 78.17%, dev loss: 0.9188, acc: 66.89%.\n",
      "--- epoch: 23 ---\n",
      "training loss: 0.5928, acc: 78.68%, dev loss: 0.8713, acc: 69.59%.\n",
      "--- epoch: 24 ---\n",
      "training loss: 0.6040, acc: 77.66%, dev loss: 0.8206, acc: 68.92%.\n",
      "--- epoch: 25 ---\n",
      "training loss: 0.5497, acc: 79.86%, dev loss: 0.8758, acc: 69.59%.\n",
      "--- epoch: 26 ---\n",
      "training loss: 0.5318, acc: 79.70%, dev loss: 0.8116, acc: 67.57%.\n",
      "--- epoch: 27 ---\n",
      "training loss: 0.5386, acc: 81.56%, dev loss: 0.8604, acc: 64.19%.\n",
      "--- epoch: 28 ---\n",
      "training loss: 0.5631, acc: 80.88%, dev loss: 0.8713, acc: 67.57%.\n",
      "--- epoch: 29 ---\n",
      "training loss: 0.5232, acc: 80.54%, dev loss: 0.8952, acc: 59.46%.\n",
      "--- epoch: 30 ---\n",
      "training loss: 0.5165, acc: 80.37%, dev loss: 0.8042, acc: 68.24%.\n",
      "--- epoch: 31 ---\n",
      "training loss: 0.5076, acc: 83.76%, dev loss: 0.8290, acc: 70.95%.\n",
      "--- epoch: 32 ---\n",
      "training loss: 0.4858, acc: 83.08%, dev loss: 0.8364, acc: 68.24%.\n",
      "--- epoch: 33 ---\n",
      "training loss: 0.4950, acc: 80.71%, dev loss: 0.8680, acc: 68.24%.\n",
      "--- epoch: 34 ---\n",
      "training loss: 0.4879, acc: 80.88%, dev loss: 0.8192, acc: 70.95%.\n",
      "--- epoch: 35 ---\n",
      "training loss: 0.4089, acc: 84.43%, dev loss: 0.8955, acc: 70.27%.\n",
      "--- epoch: 36 ---\n",
      "training loss: 0.4729, acc: 82.91%, dev loss: 0.8752, acc: 69.59%.\n",
      "--- epoch: 37 ---\n",
      "training loss: 0.4449, acc: 86.80%, dev loss: 0.8039, acc: 72.30%.\n",
      "--- epoch: 38 ---\n",
      "training loss: 0.4329, acc: 85.28%, dev loss: 0.7502, acc: 73.65%.\n",
      "--- epoch: 39 ---\n",
      "training loss: 0.4323, acc: 84.60%, dev loss: 0.8175, acc: 71.62%.\n",
      "--- epoch: 40 ---\n",
      "training loss: 0.4417, acc: 84.94%, dev loss: 0.7730, acc: 71.62%.\n",
      "--- epoch: 41 ---\n",
      "training loss: 0.3633, acc: 86.97%, dev loss: 0.9158, acc: 71.62%.\n",
      "--- epoch: 42 ---\n",
      "training loss: 0.3704, acc: 86.13%, dev loss: 0.8345, acc: 68.92%.\n",
      "--- epoch: 43 ---\n",
      "training loss: 0.4087, acc: 85.79%, dev loss: 0.8722, acc: 69.59%.\n",
      "--- epoch: 44 ---\n",
      "training loss: 0.4560, acc: 85.62%, dev loss: 0.8326, acc: 73.65%.\n",
      "--- epoch: 45 ---\n",
      "training loss: 0.3767, acc: 87.31%, dev loss: 0.8305, acc: 66.89%.\n",
      "--- epoch: 46 ---\n",
      "training loss: 0.3403, acc: 87.31%, dev loss: 0.8136, acc: 68.92%.\n",
      "--- epoch: 47 ---\n",
      "training loss: 0.3486, acc: 89.00%, dev loss: 0.8072, acc: 70.27%.\n",
      "--- epoch: 48 ---\n",
      "training loss: 0.3392, acc: 88.66%, dev loss: 0.8790, acc: 72.30%.\n",
      "--- epoch: 49 ---\n",
      "training loss: 0.2965, acc: 89.00%, dev loss: 0.7690, acc: 74.32%.\n",
      "--- epoch: 50 ---\n",
      "training loss: 0.3265, acc: 88.16%, dev loss: 0.7751, acc: 74.32%.\n",
      "--- epoch: 51 ---\n",
      "training loss: 0.3280, acc: 87.99%, dev loss: 0.9024, acc: 72.30%.\n",
      "--- epoch: 52 ---\n",
      "training loss: 0.3823, acc: 85.79%, dev loss: 0.7491, acc: 74.32%.\n",
      "--- epoch: 53 ---\n",
      "training loss: 0.3965, acc: 85.45%, dev loss: 0.8126, acc: 74.32%.\n",
      "--- epoch: 54 ---\n",
      "training loss: 0.3202, acc: 89.00%, dev loss: 0.7757, acc: 75.00%.\n",
      "--- epoch: 55 ---\n",
      "training loss: 0.2776, acc: 91.37%, dev loss: 1.2484, acc: 70.27%.\n",
      "--- epoch: 56 ---\n",
      "training loss: 0.3545, acc: 87.82%, dev loss: 0.8034, acc: 75.00%.\n",
      "--- epoch: 57 ---\n",
      "training loss: 0.3311, acc: 89.51%, dev loss: 0.8269, acc: 72.97%.\n",
      "--- epoch: 58 ---\n",
      "training loss: 0.3225, acc: 89.85%, dev loss: 0.9176, acc: 72.97%.\n",
      "--- epoch: 59 ---\n",
      "training loss: 0.2828, acc: 90.52%, dev loss: 0.7617, acc: 70.95%.\n",
      "--- epoch: 60 ---\n",
      "training loss: 0.2909, acc: 89.85%, dev loss: 0.8175, acc: 77.03%.\n",
      "--- epoch: 61 ---\n",
      "training loss: 0.2805, acc: 90.02%, dev loss: 0.7906, acc: 72.97%.\n",
      "--- epoch: 62 ---\n",
      "training loss: 0.2511, acc: 90.02%, dev loss: 0.7081, acc: 77.03%.\n",
      "--- epoch: 63 ---\n",
      "training loss: 0.2908, acc: 90.02%, dev loss: 0.7990, acc: 75.68%.\n",
      "--- epoch: 64 ---\n",
      "training loss: 0.3004, acc: 88.32%, dev loss: 0.7317, acc: 78.38%.\n",
      "--- epoch: 65 ---\n",
      "training loss: 0.2606, acc: 90.19%, dev loss: 0.8769, acc: 75.68%.\n",
      "--- epoch: 66 ---\n",
      "training loss: 0.1910, acc: 93.40%, dev loss: 0.8232, acc: 75.68%.\n",
      "--- epoch: 67 ---\n",
      "training loss: 0.2442, acc: 91.37%, dev loss: 0.8880, acc: 75.68%.\n",
      "--- epoch: 68 ---\n",
      "training loss: 0.2661, acc: 89.85%, dev loss: 0.8003, acc: 76.35%.\n",
      "--- epoch: 69 ---\n",
      "training loss: 0.2661, acc: 90.69%, dev loss: 0.7958, acc: 77.03%.\n",
      "--- epoch: 70 ---\n",
      "training loss: 0.1970, acc: 94.59%, dev loss: 0.8296, acc: 73.65%.\n",
      "--- epoch: 71 ---\n",
      "training loss: 0.3522, acc: 88.32%, dev loss: 0.9452, acc: 72.30%.\n",
      "--- epoch: 72 ---\n",
      "training loss: 0.2939, acc: 88.83%, dev loss: 0.7959, acc: 71.62%.\n",
      "--- epoch: 73 ---\n",
      "training loss: 0.2844, acc: 90.52%, dev loss: 0.7337, acc: 78.38%.\n",
      "--- epoch: 74 ---\n",
      "training loss: 0.2896, acc: 88.32%, dev loss: 0.8104, acc: 75.00%.\n",
      "--- epoch: 75 ---\n",
      "training loss: 0.2173, acc: 92.22%, dev loss: 0.8930, acc: 72.97%.\n",
      "--- epoch: 76 ---\n",
      "training loss: 0.2753, acc: 90.02%, dev loss: 0.7047, acc: 75.00%.\n",
      "--- epoch: 77 ---\n",
      "training loss: 0.2216, acc: 91.71%, dev loss: 0.7467, acc: 75.00%.\n",
      "--- epoch: 78 ---\n",
      "training loss: 0.1899, acc: 94.08%, dev loss: 0.8087, acc: 77.03%.\n",
      "--- epoch: 79 ---\n",
      "training loss: 0.2107, acc: 92.89%, dev loss: 0.8930, acc: 73.65%.\n",
      "--- epoch: 80 ---\n",
      "training loss: 0.2187, acc: 92.05%, dev loss: 0.8669, acc: 75.68%.\n",
      "--- epoch: 81 ---\n",
      "training loss: 0.2319, acc: 92.39%, dev loss: 0.7826, acc: 77.03%.\n",
      "--- epoch: 82 ---\n",
      "training loss: 0.2269, acc: 92.55%, dev loss: 0.8241, acc: 77.03%.\n",
      "--- epoch: 83 ---\n",
      "training loss: 0.2163, acc: 93.74%, dev loss: 0.7881, acc: 76.35%.\n",
      "--- epoch: 84 ---\n",
      "training loss: 0.2161, acc: 93.40%, dev loss: 0.8633, acc: 69.59%.\n",
      "--- epoch: 85 ---\n",
      "training loss: 0.2351, acc: 93.40%, dev loss: 0.7759, acc: 76.35%.\n",
      "--- epoch: 86 ---\n",
      "training loss: 0.2390, acc: 91.88%, dev loss: 0.7737, acc: 74.32%.\n",
      "--- epoch: 87 ---\n",
      "training loss: 0.2297, acc: 92.05%, dev loss: 0.9240, acc: 77.03%.\n",
      "--- epoch: 88 ---\n",
      "training loss: 0.2292, acc: 92.72%, dev loss: 0.7943, acc: 73.65%.\n",
      "--- epoch: 89 ---\n",
      "training loss: 0.2111, acc: 92.55%, dev loss: 0.7879, acc: 77.03%.\n",
      "--- epoch: 90 ---\n",
      "training loss: 0.1905, acc: 94.42%, dev loss: 0.8026, acc: 73.65%.\n",
      "--- epoch: 91 ---\n",
      "training loss: 0.2131, acc: 92.05%, dev loss: 0.8062, acc: 73.65%.\n",
      "--- epoch: 92 ---\n",
      "training loss: 0.1892, acc: 94.25%, dev loss: 0.9609, acc: 72.97%.\n",
      "--- epoch: 93 ---\n",
      "training loss: 0.2021, acc: 94.08%, dev loss: 0.8071, acc: 75.00%.\n",
      "--- epoch: 94 ---\n",
      "training loss: 0.3048, acc: 89.85%, dev loss: 0.8054, acc: 76.35%.\n",
      "--- epoch: 95 ---\n",
      "training loss: 0.2890, acc: 91.88%, dev loss: 0.7500, acc: 74.32%.\n",
      "--- epoch: 96 ---\n",
      "training loss: 0.2200, acc: 92.05%, dev loss: 1.0069, acc: 74.32%.\n",
      "--- epoch: 97 ---\n",
      "training loss: 0.1980, acc: 92.55%, dev loss: 0.8479, acc: 78.38%.\n",
      "--- epoch: 98 ---\n",
      "training loss: 0.1709, acc: 94.59%, dev loss: 0.8419, acc: 77.03%.\n",
      "--- epoch: 99 ---\n",
      "training loss: 0.1768, acc: 95.26%, dev loss: 0.9425, acc: 73.65%.\n",
      "--- epoch: 100 ---\n",
      "training loss: 0.1827, acc: 93.57%, dev loss: 0.8201, acc: 76.35%.\n",
      "best dev acc: 0.7838\n"
     ]
    }
   ],
   "source": [
    "net = MyModel()\n",
    "best_net = train(net, train_data_loader, dev_data_loader)"
   ]
  },
  {
   "cell_type": "code",
   "execution_count": 65,
   "metadata": {},
   "outputs": [
    {
     "data": {
      "text/plain": [
       "<All keys matched successfully>"
      ]
     },
     "execution_count": 65,
     "metadata": {},
     "output_type": "execute_result"
    }
   ],
   "source": [
    "torch.save(best_net, model_path)\n",
    "net.load_state_dict(torch.load(model_path))"
   ]
  },
  {
   "cell_type": "markdown",
   "metadata": {},
   "source": [
    "#### TEST"
   ]
  },
  {
   "cell_type": "code",
   "execution_count": 66,
   "metadata": {},
   "outputs": [],
   "source": [
    "def test(model, test_data_loader):\n",
    "    test_stat = Stat(training=False)\n",
    "    model.eval()\n",
    "    with torch.no_grad():\n",
    "        for batch in test_data_loader:\n",
    "            data, labels = batch[0], batch[1]\n",
    "            pred_outputs = model(data)\n",
    "            test_stat.add(pred_outputs, labels, 0)\n",
    "\n",
    "    report = classification_report(\n",
    "        test_stat.labels,\n",
    "        test_stat.pred_labels,\n",
    "        target_names=class_list,\n",
    "        digits=4,\n",
    "        zero_division=0,\n",
    "    )\n",
    "    print(report)"
   ]
  },
  {
   "cell_type": "code",
   "execution_count": 67,
   "metadata": {},
   "outputs": [
    {
     "data": {
      "text/plain": [
       "(torch.Size([6, 3, 100, 100]), torch.Size([6]))"
      ]
     },
     "execution_count": 67,
     "metadata": {},
     "output_type": "execute_result"
    }
   ],
   "source": [
    "path_test = '../TestImages/'\n",
    "imgs=[]\n",
    "for im in glob.glob(path_test+'/*.jpg'):\n",
    "    img=cv2.imread(im)           \n",
    "    img=cv2.resize(img,(w,h)) \n",
    "    imgs.append(img)  \n",
    "imgs = np.asarray(imgs,np.float32)    \n",
    "\n",
    "test_data = imgs / 255\n",
    "test_label = [x for x in range(len(test_data))]\n",
    "\n",
    "test_data = torch.FloatTensor(test_data).permute(0, 3, 1, 2)\n",
    "test_label = torch.LongTensor(test_label)\n",
    "test_data.shape, test_label.shape"
   ]
  },
  {
   "cell_type": "code",
   "execution_count": 68,
   "metadata": {},
   "outputs": [
    {
     "name": "stdout",
     "output_type": "stream",
     "text": [
      "                precision    recall  f1-score   support\n",
      "\n",
      "           bee     1.0000    1.0000    1.0000         1\n",
      "    blackberry     1.0000    1.0000    1.0000         1\n",
      "       blanket     1.0000    1.0000    1.0000         1\n",
      "bougainvilliea     1.0000    1.0000    1.0000         1\n",
      "      bromelia     1.0000    1.0000    1.0000         1\n",
      "      foxglove     1.0000    1.0000    1.0000         1\n",
      "\n",
      "      accuracy                         1.0000         6\n",
      "     macro avg     1.0000    1.0000    1.0000         6\n",
      "  weighted avg     1.0000    1.0000    1.0000         6\n",
      "\n"
     ]
    }
   ],
   "source": [
    "test_set = FlowerDataset(test_data, test_label)\n",
    "test_data_loader = DataLoader(test_set, batch_size=len(test_data), shuffle=False)\n",
    "test(net, test_data_loader)"
   ]
  },
  {
   "cell_type": "code",
   "execution_count": 69,
   "metadata": {},
   "outputs": [
    {
     "name": "stdout",
     "output_type": "stream",
     "text": [
      "                precision    recall  f1-score   support\n",
      "\n",
      "           bee     1.0000    1.0000    1.0000         1\n",
      "    blackberry     1.0000    1.0000    1.0000         1\n",
      "       blanket     1.0000    1.0000    1.0000         1\n",
      "bougainvilliea     1.0000    1.0000    1.0000         1\n",
      "      bromelia     1.0000    1.0000    1.0000         1\n",
      "      foxglove     1.0000    1.0000    1.0000         1\n",
      "\n",
      "      accuracy                         1.0000         6\n",
      "     macro avg     1.0000    1.0000    1.0000         6\n",
      "  weighted avg     1.0000    1.0000    1.0000         6\n",
      "\n"
     ]
    }
   ],
   "source": [
    "net = MyModel()\n",
    "net.load_state_dict(torch.load(model_path))\n",
    "test(net, test_data_loader)"
   ]
  }
 ],
 "metadata": {
  "interpreter": {
   "hash": "b0a0aef9578cc1edfecec80d6a58c391f944f9223b5cad1c1ac9c6fdf88bcc20"
  },
  "kernelspec": {
   "display_name": "Python 3.7.11 ('basework')",
   "language": "python",
   "name": "python3"
  },
  "language_info": {
   "codemirror_mode": {
    "name": "ipython",
    "version": 3
   },
   "file_extension": ".py",
   "mimetype": "text/x-python",
   "name": "python",
   "nbconvert_exporter": "python",
   "pygments_lexer": "ipython3",
   "version": "3.7.11"
  },
  "orig_nbformat": 4
 },
 "nbformat": 4,
 "nbformat_minor": 2
}
