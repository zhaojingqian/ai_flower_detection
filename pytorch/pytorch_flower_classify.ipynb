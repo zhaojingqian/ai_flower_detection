{
 "cells": [
  {
   "cell_type": "code",
   "execution_count": 4,
   "metadata": {},
   "outputs": [],
   "source": [
    "import glob\n",
    "import os\n",
    "import time\n",
    "\n",
    "import cv2\n",
    "import numpy as np\n",
    "\n",
    "import torch\n",
    "import torch.nn as nn\n",
    "from torch.utils.data import Dataset\n",
    "from torch.utils.data import DataLoader\n",
    "\n",
    "from torch.nn import CrossEntropyLoss\n",
    "from torch.optim import Adam\n",
    "\n",
    "from torch.utils.tensorboard import SummaryWriter\n",
    "\n",
    "from copy import deepcopy\n",
    "from sklearn.model_selection import train_test_split\n",
    "from sklearn.metrics import accuracy_score, classification_report"
   ]
  },
  {
   "cell_type": "markdown",
   "metadata": {},
   "source": [
    "#### 数据预处理\n"
   ]
  },
  {
   "cell_type": "code",
   "execution_count": 5,
   "metadata": {},
   "outputs": [],
   "source": [
    "path = './flower_photos/'\n",
    "w = 200\n",
    "h = 200\n",
    "c = 3"
   ]
  },
  {
   "cell_type": "code",
   "execution_count": 6,
   "metadata": {},
   "outputs": [],
   "source": [
    "def read_img(path):\n",
    "    cate=[path+x for x in os.listdir(path) if os.path.isdir(path+x)] \n",
    "    imgs = []\n",
    "    labels = []\n",
    "    for idx, folder in enumerate(cate):\n",
    "        for im in glob.glob(folder + '/*.jpg'):\n",
    "            img = cv2.imread(im)\n",
    "            img = cv2.resize(img, (w, h))\n",
    "            imgs.append(img)\n",
    "            labels.append(idx)\n",
    "    return np.asarray(imgs, np.float32), np.asarray(labels, np.int32)"
   ]
  },
  {
   "cell_type": "code",
   "execution_count": 7,
   "metadata": {},
   "outputs": [
    {
     "data": {
      "text/plain": [
       "(torch.Size([516, 3, 200, 200]), torch.Size([516]))"
      ]
     },
     "execution_count": 7,
     "metadata": {},
     "output_type": "execute_result"
    }
   ],
   "source": [
    "data, label = read_img(path)\n",
    "\n",
    "data = torch.FloatTensor(data).permute(0, 3, 1, 2)\n",
    "label = torch.LongTensor(label)\n",
    "\n",
    "data.shape, label.shape"
   ]
  },
  {
   "cell_type": "code",
   "execution_count": 8,
   "metadata": {},
   "outputs": [],
   "source": [
    "seed = 109\n",
    "np.random.seed(seed)\n",
    "\n",
    "(x_train, x_val, y_train, y_val) = train_test_split(data, label, test_size=0.20, random_state=seed)\n",
    "x_train = x_train / 255\n",
    "x_val = x_val / 255\n",
    "\n",
    "flower_dict = {0:'bee', 1:'blackberry', 2:'blanket', 3:'bougainvilliea', 4:'bromelia', 5:'foxglove'}\n",
    "class_list = ['bee', 'blackberry', 'blanket', 'bougainvilliea', 'bromelia', 'foxglove']"
   ]
  },
  {
   "cell_type": "markdown",
   "metadata": {},
   "source": [
    "#### TORCH框架"
   ]
  },
  {
   "cell_type": "code",
   "execution_count": 9,
   "metadata": {},
   "outputs": [],
   "source": [
    "class FlowerDataset(Dataset):\n",
    "    def __init__(self, data, label):\n",
    "        super(FlowerDataset, self).__init__()\n",
    "        self.data = data\n",
    "        self.label = label\n",
    "    \n",
    "    def __len__(self):\n",
    "        return len(self.data)\n",
    "\n",
    "    def __getitem__(self, idx):\n",
    "        return self.data[idx], self.label[idx]"
   ]
  },
  {
   "cell_type": "code",
   "execution_count": 10,
   "metadata": {},
   "outputs": [],
   "source": [
    "'''\n",
    "    model\n",
    "    采取和tf一样的CNN架构\n",
    "'''\n",
    "class MyModel(nn.Module):\n",
    "    def __init__(self):\n",
    "        super(MyModel, self).__init__()\n",
    "\n",
    "        self.conv_model = nn.Sequential(\n",
    "            nn.Conv2d(3, 16, 3, padding=1),\n",
    "            nn.ReLU(),\n",
    "            nn.MaxPool2d(2, 2),\n",
    "            nn.Conv2d(16, 32, 3, padding=1),\n",
    "            nn.ReLU(),\n",
    "            nn.MaxPool2d(2, 2),\n",
    "            nn.Conv2d(32, 64, 3, padding=1),\n",
    "            nn.ReLU(),\n",
    "            nn.MaxPool2d(2, 2),\n",
    "        )\n",
    "\n",
    "        self.fc = nn.Sequential(\n",
    "            nn.Dropout(0.5),\n",
    "            nn.Linear(25*25*64, 128),\n",
    "            nn.ReLU(),\n",
    "            nn.Dropout(0.5),\n",
    "            nn.Linear(128, 6),\n",
    "        )\n",
    "\n",
    "    def forward(self, data):\n",
    "        x = self.conv_model(data)\n",
    "        x = x.view(x.size()[0], -1)\n",
    "        x = self.fc(x)\n",
    "        return x"
   ]
  },
  {
   "cell_type": "code",
   "execution_count": 11,
   "metadata": {},
   "outputs": [],
   "source": [
    "num_epochs = 100"
   ]
  },
  {
   "cell_type": "markdown",
   "metadata": {},
   "source": [
    "#### TRAIN AND EVAL"
   ]
  },
  {
   "cell_type": "code",
   "execution_count": 12,
   "metadata": {},
   "outputs": [],
   "source": [
    "class Stat:\n",
    "    def __init__(self, training, writer=None):\n",
    "        self.step = 0\n",
    "        self.loss = []\n",
    "        self.labels = []\n",
    "        self.pred_labels = []\n",
    "        self.training = training\n",
    "        self.writer = writer\n",
    "    \n",
    "    def add(self, pred, labels, loss):\n",
    "        labels = labels.numpy()\n",
    "        pred = pred.detach().numpy()\n",
    "        pred_labels = np.argmax(pred, axis = 1)\n",
    "        self.loss.append(loss)\n",
    "        self.labels.extend(labels)\n",
    "        self.pred_labels.extend(pred_labels)\n",
    "\n",
    "    def log(self):\n",
    "        self.step += 1\n",
    "        acc = accuracy_score(self.labels, self.pred_labels)\n",
    "        loss = sum(self.loss) / len(self.loss)\n",
    "        self.loss = []\n",
    "        self.labels = []\n",
    "        self.pred_labels = []\n",
    "        if not self.writer:\n",
    "            return loss, acc\n",
    "        if self.training:\n",
    "            self.writer.add_scalar('train_loss', loss, self.step)\n",
    "            self.writer.add_scalar('train_acc', acc, self.step)\n",
    "        else:\n",
    "            self.writer.add_scalar('dev_loss', loss, self.step)\n",
    "            self.writer.add_scalar('dev_acc', acc, self.step)\n",
    "        return loss, acc"
   ]
  },
  {
   "cell_type": "code",
   "execution_count": 13,
   "metadata": {},
   "outputs": [],
   "source": [
    "def train(model, train_data_loader, dev_data_loader):\n",
    "    loss_func = CrossEntropyLoss()\n",
    "    optimizer = Adam(\n",
    "        model.parameters(),\n",
    "        lr=0.001,\n",
    "        weight_decay=0.01,\n",
    "    )\n",
    "\n",
    "    writer = SummaryWriter('./summary/' + time.strftime('%m-%d_%H.%M', time.localtime()))\n",
    "    train_stat = Stat(training=True, writer=writer)\n",
    "    dev_stat = Stat(training=False, writer=writer)\n",
    "\n",
    "\n",
    "    best_acc, best_net = 0.0, None\n",
    "    for epoch in range(num_epochs):\n",
    "        print(f\"--- epoch: {epoch + 1} ---\")\n",
    "        for iter, batch in enumerate(train_data_loader):\n",
    "            model.train()\n",
    "            data, labels = batch[0], batch[1]\n",
    "            pred_outputs = model(data)\n",
    "            loss = loss_func(pred_outputs, labels)\n",
    "            optimizer.zero_grad()\n",
    "            loss.backward()\n",
    "            optimizer.step()\n",
    "            train_stat.add(pred_outputs, labels, loss.item())\n",
    "        train_loss, train_acc = train_stat.log()\n",
    "\n",
    "        model.eval()\n",
    "        with torch.no_grad():\n",
    "            for batch in dev_data_loader:\n",
    "                data, labels = batch[0], batch[1]\n",
    "                pred_outputs = model(data)\n",
    "                loss = loss_func(pred_outputs, labels)\n",
    "                dev_stat.add(pred_outputs, labels, loss.item())\n",
    "        dev_loss, dev_acc = dev_stat.log()\n",
    "        print(  f\"training loss: {train_loss:.4f}, acc: {train_acc:.2%}, \" \\\n",
    "                f\"dev loss: {dev_loss:.4f}, acc: {dev_acc:.2%}.\")\n",
    "\n",
    "        if dev_acc > best_acc:\n",
    "            best_acc = dev_acc\n",
    "            best_net = deepcopy(model.state_dict())\n",
    "            \n",
    "    print(f\"best dev acc: {best_acc:.4f}\")\n",
    "    return best_net"
   ]
  },
  {
   "cell_type": "markdown",
   "metadata": {},
   "source": [
    "#### TEST"
   ]
  },
  {
   "cell_type": "code",
   "execution_count": 183,
   "metadata": {},
   "outputs": [],
   "source": [
    "def test(model, test_data_loader):\n",
    "    test_stat = Stat(training=False)\n",
    "    model.eval()\n",
    "    with torch.no_grad():\n",
    "        for batch in test_data_loader:\n",
    "            data, labels = batch[0], batch[1]\n",
    "            pred_outputs = model(data)\n",
    "            test_stat.add(pred_outputs, labels, 0)\n",
    "\n",
    "    report = classification_report(\n",
    "        test_stat.labels,\n",
    "        test_stat.pred_labels,\n",
    "        target_names=class_list,\n",
    "        digits=4,\n",
    "        zero_division=0,\n",
    "    )\n",
    "    print(report)"
   ]
  },
  {
   "cell_type": "code",
   "execution_count": 184,
   "metadata": {},
   "outputs": [
    {
     "data": {
      "text/plain": [
       "(torch.Size([6, 3, 200, 200]), torch.Size([6]))"
      ]
     },
     "execution_count": 184,
     "metadata": {},
     "output_type": "execute_result"
    }
   ],
   "source": [
    "path_test = '../TestImages/'\n",
    "imgs=[]\n",
    "for im in glob.glob(path_test+'/*.jpg'):\n",
    "    img=cv2.imread(im)           \n",
    "    img=cv2.resize(img,(w,h)) \n",
    "    imgs.append(img)  \n",
    "imgs = np.asarray(imgs,np.float32)    \n",
    "\n",
    "test_data = imgs / 255\n",
    "test_label = [x for x in range(len(test_data))]\n",
    "\n",
    "test_data = torch.FloatTensor(test_data).permute(0, 3, 1, 2)\n",
    "test_label = torch.LongTensor(test_label)\n",
    "test_data.shape, test_label.shape"
   ]
  },
  {
   "cell_type": "code",
   "execution_count": 185,
   "metadata": {},
   "outputs": [
    {
     "name": "stdout",
     "output_type": "stream",
     "text": [
      "                precision    recall  f1-score   support\n",
      "\n",
      "           bee     1.0000    1.0000    1.0000         1\n",
      "    blackberry     1.0000    1.0000    1.0000         1\n",
      "       blanket     1.0000    1.0000    1.0000         1\n",
      "bougainvilliea     1.0000    1.0000    1.0000         1\n",
      "      bromelia     1.0000    1.0000    1.0000         1\n",
      "      foxglove     1.0000    1.0000    1.0000         1\n",
      "\n",
      "      accuracy                         1.0000         6\n",
      "     macro avg     1.0000    1.0000    1.0000         6\n",
      "  weighted avg     1.0000    1.0000    1.0000         6\n",
      "\n"
     ]
    }
   ],
   "source": [
    "test_set = FlowerDataset(test_data, test_label)\n",
    "test_data_loader = DataLoader(test_set, batch_size=len(test_data), shuffle=False)\n",
    "test(net, test_data_loader)"
   ]
  },
  {
   "cell_type": "code",
   "execution_count": 186,
   "metadata": {},
   "outputs": [],
   "source": [
    "# net = MyModel()\n",
    "# net.load_state_dict(torch.load('./model/model-04-21_20.44.pkl'))\n",
    "# test(net, test_data_loader)"
   ]
  }
 ],
 "metadata": {
  "interpreter": {
   "hash": "b0a0aef9578cc1edfecec80d6a58c391f944f9223b5cad1c1ac9c6fdf88bcc20"
  },
  "kernelspec": {
   "display_name": "Python 3.7.11 ('basework')",
   "language": "python",
   "name": "python3"
  },
  "language_info": {
   "codemirror_mode": {
    "name": "ipython",
    "version": 3
   },
   "file_extension": ".py",
   "mimetype": "text/x-python",
   "name": "python",
   "nbconvert_exporter": "python",
   "pygments_lexer": "ipython3",
   "version": "3.7.11"
  },
  "orig_nbformat": 4
 },
 "nbformat": 4,
 "nbformat_minor": 2
}
