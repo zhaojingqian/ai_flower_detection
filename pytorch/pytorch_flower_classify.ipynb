{
 "cells": [
  {
   "cell_type": "code",
   "execution_count": 49,
   "metadata": {},
   "outputs": [
    {
     "data": {
      "text/plain": [
       "device(type='cpu')"
      ]
     },
     "execution_count": 49,
     "metadata": {},
     "output_type": "execute_result"
    }
   ],
   "source": [
    "import glob\n",
    "import os\n",
    "import time\n",
    "\n",
    "import cv2\n",
    "import numpy as np\n",
    "\n",
    "import torch\n",
    "import torch.nn as nn\n",
    "from torch.utils.data import Dataset\n",
    "from torch.utils.data import DataLoader\n",
    "\n",
    "from torch.nn import CrossEntropyLoss\n",
    "from torch.optim import Adam\n",
    "\n",
    "from torch.utils.tensorboard import SummaryWriter\n",
    "\n",
    "from copy import deepcopy\n",
    "from sklearn.model_selection import train_test_split\n",
    "from sklearn.metrics import accuracy_score, classification_report\n",
    "\n",
    "device = torch.device('cuda' if torch.cuda.is_available() else 'cpu')\n",
    "device"
   ]
  },
  {
   "cell_type": "markdown",
   "metadata": {},
   "source": [
    "#### 数据预处理\n"
   ]
  },
  {
   "cell_type": "code",
   "execution_count": 50,
   "metadata": {},
   "outputs": [],
   "source": [
    "path = '../flower_photos/'\n",
    "w = 100\n",
    "h = 100\n",
    "c = 3"
   ]
  },
  {
   "cell_type": "code",
   "execution_count": 51,
   "metadata": {},
   "outputs": [],
   "source": [
    "def read_img(path):\n",
    "    cate=[path+x for x in os.listdir(path) if os.path.isdir(path+x)] \n",
    "    imgs = []\n",
    "    labels = []\n",
    "    for idx, folder in enumerate(cate):\n",
    "        for im in glob.glob(folder + '/*.jpg'):\n",
    "            img = cv2.imread(im)\n",
    "            img = cv2.resize(img, (w, h))\n",
    "            imgs.append(img)\n",
    "            labels.append(idx)\n",
    "    return np.asarray(imgs, np.float32), np.asarray(labels, np.int32)"
   ]
  },
  {
   "cell_type": "code",
   "execution_count": 52,
   "metadata": {},
   "outputs": [
    {
     "data": {
      "text/plain": [
       "(torch.Size([744, 3, 100, 100]), torch.Size([744]))"
      ]
     },
     "execution_count": 52,
     "metadata": {},
     "output_type": "execute_result"
    }
   ],
   "source": [
    "data, label = read_img(path)\n",
    "\n",
    "data = torch.FloatTensor(data).permute(0, 3, 1, 2)\n",
    "label = torch.LongTensor(label)\n",
    "\n",
    "data.shape, label.shape"
   ]
  },
  {
   "cell_type": "code",
   "execution_count": 53,
   "metadata": {},
   "outputs": [],
   "source": [
    "seed = 109\n",
    "np.random.seed(seed)\n",
    "\n",
    "data = data / 255\n",
    "(x_train, x_val, y_train, y_val) = train_test_split(data, label, test_size=0.20, random_state=seed)\n",
    "# x_train = x_train / 255\n",
    "# x_val = x_val / 255\n",
    "\n",
    "flower_dict = {0:'bee', 1:'blackberry', 2:'blanket', 3:'bougainvilliea', 4:'bromelia', 5:'foxglove'}\n",
    "class_list = ['bee', 'blackberry', 'blanket', 'bougainvilliea', 'bromelia', 'foxglove']"
   ]
  },
  {
   "cell_type": "markdown",
   "metadata": {},
   "source": [
    "#### TORCH框架"
   ]
  },
  {
   "cell_type": "code",
   "execution_count": 54,
   "metadata": {},
   "outputs": [],
   "source": [
    "class FlowerDataset(Dataset):\n",
    "    def __init__(self, data, label):\n",
    "        super(FlowerDataset, self).__init__()\n",
    "        self.data = data.to(device)\n",
    "        self.label = label.to(device)\n",
    "    \n",
    "    def __len__(self):\n",
    "        return len(self.data)\n",
    "\n",
    "    def __getitem__(self, idx):\n",
    "        return self.data[idx], self.label[idx]"
   ]
  },
  {
   "cell_type": "code",
   "execution_count": 55,
   "metadata": {},
   "outputs": [],
   "source": [
    "'''\n",
    "    model\n",
    "    采取和tf一样的CNN架构\n",
    "'''\n",
    "# import torch.nn.functional as F\n",
    "\n",
    "# class SelfAttention(nn.Module):\n",
    "#     def __init__(self, input_dim):\n",
    "#         super(SelfAttention, self).__init__()\n",
    "#         self.projection = nn.Sequential(\n",
    "#             nn.Linear(input_dim, 64),\n",
    "#             nn.ReLU(True),\n",
    "#             nn.Linear(64, 1)\n",
    "#         )\n",
    "    \n",
    "#     def forward(self, data):\n",
    "#         energy = self.projection(data)\n",
    "#         weights = F.softmax(energy, dim=1)\n",
    "#         outputs = data * weights\n",
    "#         return outputs\n",
    "\n",
    "\n",
    "class MyModel(nn.Module):\n",
    "    def __init__(self):\n",
    "        super(MyModel, self).__init__()\n",
    "\n",
    "        self.conv_model = nn.Sequential(\n",
    "            nn.Conv2d(3, 16, 3, padding=1),\n",
    "            nn.ReLU(),\n",
    "            nn.MaxPool2d(2, 2),\n",
    "            nn.Conv2d(16, 32, 3, padding=1),\n",
    "            nn.ReLU(),\n",
    "            nn.MaxPool2d(2, 2),\n",
    "            nn.Conv2d(32, 64, 3, padding=1),\n",
    "            nn.ReLU(),\n",
    "            nn.MaxPool2d(2, 2),\n",
    "        )\n",
    "\n",
    "        # self.attention = SelfAttention(12*12)\n",
    "\n",
    "        self.fc = nn.Sequential(\n",
    "            nn.Dropout(0.5),\n",
    "            nn.Linear(12*12*64, 128),\n",
    "            nn.ReLU(),\n",
    "            nn.Dropout(0.5),\n",
    "            nn.Linear(128, 6),\n",
    "        )\n",
    "\n",
    "    def forward(self, data):\n",
    "        x = self.conv_model(data)\n",
    "        x = x.view(x.size()[0],-1)\n",
    "        x = self.fc(x)\n",
    "        return x"
   ]
  },
  {
   "cell_type": "code",
   "execution_count": 56,
   "metadata": {},
   "outputs": [],
   "source": [
    "num_epochs = 100"
   ]
  },
  {
   "cell_type": "markdown",
   "metadata": {},
   "source": [
    "#### TRAIN AND EVAL"
   ]
  },
  {
   "cell_type": "code",
   "execution_count": 57,
   "metadata": {},
   "outputs": [],
   "source": [
    "class Stat:\n",
    "    def __init__(self, training, writer=None):\n",
    "        self.step = 0\n",
    "        self.loss = []\n",
    "        self.labels = []\n",
    "        self.pred_labels = []\n",
    "        self.training = training\n",
    "        self.writer = writer\n",
    "    \n",
    "    def add(self, pred, labels, loss):\n",
    "        labels = labels.cpu().numpy()\n",
    "        pred = pred.cpu().detach().numpy()\n",
    "        pred_labels = np.argmax(pred, axis = 1)\n",
    "        self.loss.append(loss)\n",
    "        self.labels.extend(labels)\n",
    "        self.pred_labels.extend(pred_labels)\n",
    "\n",
    "    def log(self):\n",
    "        self.step += 1\n",
    "        acc = accuracy_score(self.labels, self.pred_labels)\n",
    "        loss = sum(self.loss) / len(self.loss)\n",
    "        self.loss = []\n",
    "        self.labels = []\n",
    "        self.pred_labels = []\n",
    "        if not self.writer:\n",
    "            return loss, acc\n",
    "        if self.training:\n",
    "            self.writer.add_scalar('train_loss', loss, self.step)\n",
    "            self.writer.add_scalar('train_acc', acc, self.step)\n",
    "        else:\n",
    "            self.writer.add_scalar('dev_loss', loss, self.step)\n",
    "            self.writer.add_scalar('dev_acc', acc, self.step)\n",
    "        return loss, acc"
   ]
  },
  {
   "cell_type": "code",
   "execution_count": 58,
   "metadata": {},
   "outputs": [],
   "source": [
    "import timm\n",
    "# from timm import scheduler\n",
    "\n",
    "\n",
    "\n",
    "def train(model, train_data_loader, dev_data_loader):\n",
    "    loss_func = CrossEntropyLoss()\n",
    "    optimizer = Adam(\n",
    "        model.parameters(),\n",
    "        lr=0.002,\n",
    "        weight_decay=0.01,\n",
    "    )\n",
    "\n",
    "    scheduler = timm.scheduler.CosineLRScheduler(\n",
    "        optimizer=optimizer,\n",
    "        t_initial=num_epochs,\n",
    "        lr_min = 1e-4,\n",
    "        warmup_t = 4,\n",
    "        warmup_lr_init = 1e-4\n",
    "    )\n",
    "\n",
    "    writer = SummaryWriter('./summary/' + time.strftime('%m-%d_%H.%M', time.localtime()))\n",
    "    train_stat = Stat(training=True, writer=writer)\n",
    "    dev_stat = Stat(training=False, writer=writer)\n",
    "\n",
    "\n",
    "    best_acc, best_net = 0.0, None\n",
    "    for epoch in range(num_epochs):\n",
    "        print(f\"--- epoch: {epoch + 1} ---\")\n",
    "        # scheduler.step(epoch)\n",
    "        # print(f'lr = {optimizer.param_groups[0]['lr']}')\n",
    "        for iter, batch in enumerate(train_data_loader):\n",
    "            model.train()\n",
    "            data, labels = batch[0], batch[1]\n",
    "            pred_outputs = model(data)\n",
    "            loss = loss_func(pred_outputs, labels)\n",
    "            optimizer.zero_grad()\n",
    "            loss.backward()\n",
    "            optimizer.step()\n",
    "            train_stat.add(pred_outputs, labels, loss.item())\n",
    "            \n",
    "        train_loss, train_acc = train_stat.log()\n",
    "\n",
    "        model.eval()\n",
    "        with torch.no_grad():\n",
    "            for batch in dev_data_loader:\n",
    "                data, labels = batch[0], batch[1]\n",
    "                pred_outputs = model(data)\n",
    "                loss = loss_func(pred_outputs, labels)\n",
    "                dev_stat.add(pred_outputs, labels, loss.item())\n",
    "        dev_loss, dev_acc = dev_stat.log()\n",
    "        print(  f\"training loss: {train_loss:.4f}, acc: {train_acc:.2%}, \" \\\n",
    "                f\"dev loss: {dev_loss:.4f}, acc: {dev_acc:.2%}.\")\n",
    "\n",
    "        if dev_acc > best_acc:\n",
    "            best_acc = dev_acc\n",
    "            best_net = deepcopy(model.state_dict())\n",
    "            \n",
    "    print(f\"best dev acc: {best_acc:.4f}\")\n",
    "    return best_net"
   ]
  },
  {
   "cell_type": "code",
   "execution_count": 59,
   "metadata": {},
   "outputs": [],
   "source": [
    "model_path = f'C:\\\\Users\\zzzgry\\Desktop\\midspore_lab2\\model\\\\pytorch\\\\model-'+time.strftime('%m-%d_%H.%M', time.localtime())+'.pkl'"
   ]
  },
  {
   "cell_type": "code",
   "execution_count": 60,
   "metadata": {},
   "outputs": [],
   "source": [
    "train_set = FlowerDataset(x_train, y_train)\n",
    "dev_set = FlowerDataset(x_val, y_val)\n",
    "\n",
    "train_data_loader = DataLoader(train_set, 32, True)\n",
    "dev_data_loader = DataLoader(dev_set, 32, False)"
   ]
  },
  {
   "cell_type": "markdown",
   "metadata": {},
   "source": [
    "#### KFOLD"
   ]
  },
  {
   "cell_type": "code",
   "execution_count": 61,
   "metadata": {},
   "outputs": [],
   "source": [
    "# from sklearn.model_selection import StratifiedKFold\n",
    "\n",
    "# K = 5\n",
    "# skf = StratifiedKFold(n_splits=K, random_state=seed, shuffle=True)\n",
    "# models = []\n",
    "# for fold, (train_idx, val_idx) in enumerate(skf.split(data, label)):\n",
    "#     print(f'===========fold:{fold+1}==============')\n",
    "#     train_data, train_label = data[train_idx], label[train_idx]\n",
    "#     val_data, val_label = data[val_idx], label[val_idx]\n",
    "#     train_set = FlowerDataset(train_data, train_label)\n",
    "#     dev_set = FlowerDataset(val_data, val_label)\n",
    "\n",
    "#     train_data_loader = DataLoader(train_set, 32, True)\n",
    "#     dev_data_loader = DataLoader(dev_set, 32, False)\n",
    "\n",
    "#     net = MyModel().to(device)\n",
    "#     best_net = train(net, train_data_loader, dev_data_loader)\n",
    "#     model_path = f'C:\\\\Users\\zzzgry\\Desktop\\midspore_lab2\\model\\\\pytorch\\\\fold{fold+1}-model-'+time.strftime('%m-%d_%H.%M', time.localtime())+'.pkl'\n",
    "#     torch.save(best_net, model_path)\n",
    "#     net.load_state_dict(torch.load(model_path))\n",
    "#     models.append(net)"
   ]
  },
  {
   "cell_type": "code",
   "execution_count": 62,
   "metadata": {},
   "outputs": [],
   "source": [
    "# def test(model, test_data_loader):\n",
    "#     test_stat = Stat(training=False)\n",
    "#     model.eval()\n",
    "#     with torch.no_grad():\n",
    "#         for batch in test_data_loader:\n",
    "#             data, labels = batch[0], batch[1]\n",
    "#             pred_outputs = model(data)\n",
    "#             test_stat.add(pred_outputs, labels, 0)\n",
    "#     return test_stat.pred_labels"
   ]
  },
  {
   "cell_type": "code",
   "execution_count": 63,
   "metadata": {},
   "outputs": [],
   "source": [
    "# path_test = '../TestImages/'\n",
    "# imgs=[]\n",
    "# for im in glob.glob(path_test+'/*.jpg'):\n",
    "#     img=cv2.imread(im)           \n",
    "#     img=cv2.resize(img,(w,h)) \n",
    "#     imgs.append(img)  \n",
    "# imgs = np.asarray(imgs,np.float32)    \n",
    "\n",
    "# test_data = imgs / 255\n",
    "# test_label = [x for x in range(len(test_data))]\n",
    "\n",
    "# test_data = torch.FloatTensor(test_data).permute(0, 3, 1, 2)\n",
    "# test_label = torch.LongTensor(test_label)\n",
    "# test_data.shape, test_label.shape"
   ]
  },
  {
   "cell_type": "code",
   "execution_count": 64,
   "metadata": {},
   "outputs": [],
   "source": [
    "# test_set = FlowerDataset(test_data, test_label)\n",
    "# test_data_loader = DataLoader(test_set, batch_size=len(test_data), shuffle=False)\n",
    "# test(net, test_data_loader)"
   ]
  },
  {
   "cell_type": "code",
   "execution_count": 65,
   "metadata": {},
   "outputs": [],
   "source": [
    "# pred_labels = []\n",
    "# for net in models:\n",
    "#     pred_label = test(net, test_data_loader)\n",
    "#     pred_labels.append(pred_label)\n",
    "# pred_labels = np.array(pred_labels).T\n",
    "# # 这样pred_labels的行向量为第i个样本的预测值\n",
    "# final_pred = []\n",
    "# for sample in pred_labels:\n",
    "#     final_pred.append(np.argmax(np.bincount(sample)))\n",
    "\n",
    "# correct = [1 if pred_label==idx else 0 for idx, pred_label in enumerate(final_pred)]\n",
    "# print(f'acc = {sum(correct)/len(correct)}')"
   ]
  },
  {
   "cell_type": "code",
   "execution_count": 66,
   "metadata": {},
   "outputs": [],
   "source": [
    "# pred_labels = []\n",
    "# for net in models:\n",
    "#     pred_label = test(net, dev_data_loader)\n",
    "#     pred_labels.append(pred_label)\n",
    "# pred_labels = np.array(pred_labels).T\n",
    "# # 这样pred_labels的行向量为第i个样本的预测值\n",
    "# final_pred = []\n",
    "# for sample in pred_labels:\n",
    "#     final_pred.append(np.argmax(np.bincount(sample)))\n",
    "\n",
    "# correct = [1 if pred_label==val_label[idx] else 0 for idx, pred_label in enumerate(final_pred)]\n",
    "# print(f'acc = {sum(correct)/len(correct)}')"
   ]
  },
  {
   "cell_type": "code",
   "execution_count": 67,
   "metadata": {},
   "outputs": [
    {
     "name": "stdout",
     "output_type": "stream",
     "text": [
      "--- epoch: 1 ---\n",
      "training loss: 1.7510, acc: 21.85%, dev loss: 1.6956, acc: 32.89%.\n",
      "--- epoch: 2 ---\n",
      "training loss: 1.7803, acc: 21.18%, dev loss: 1.7537, acc: 32.89%.\n",
      "--- epoch: 3 ---\n",
      "training loss: 1.6091, acc: 33.78%, dev loss: 1.4466, acc: 44.30%.\n",
      "--- epoch: 4 ---\n",
      "training loss: 1.5687, acc: 40.50%, dev loss: 1.6683, acc: 44.30%.\n",
      "--- epoch: 5 ---\n",
      "training loss: 1.5722, acc: 35.63%, dev loss: 1.5886, acc: 21.48%.\n",
      "--- epoch: 6 ---\n",
      "training loss: 1.4471, acc: 37.14%, dev loss: 1.4015, acc: 44.97%.\n",
      "--- epoch: 7 ---\n",
      "training loss: 1.4137, acc: 42.35%, dev loss: 1.3959, acc: 47.65%.\n",
      "--- epoch: 8 ---\n",
      "training loss: 1.4245, acc: 42.18%, dev loss: 1.3331, acc: 46.31%.\n",
      "--- epoch: 9 ---\n",
      "training loss: 1.4348, acc: 43.53%, dev loss: 1.3605, acc: 50.34%.\n",
      "--- epoch: 10 ---\n",
      "training loss: 1.3422, acc: 46.39%, dev loss: 1.3145, acc: 47.65%.\n",
      "--- epoch: 11 ---\n",
      "training loss: 1.3065, acc: 45.88%, dev loss: 1.3456, acc: 44.97%.\n",
      "--- epoch: 12 ---\n",
      "training loss: 1.2476, acc: 51.76%, dev loss: 1.2788, acc: 46.98%.\n",
      "--- epoch: 13 ---\n",
      "training loss: 1.2529, acc: 53.11%, dev loss: 1.1410, acc: 57.72%.\n",
      "--- epoch: 14 ---\n",
      "training loss: 1.1450, acc: 55.80%, dev loss: 1.2107, acc: 48.99%.\n",
      "--- epoch: 15 ---\n",
      "training loss: 1.1781, acc: 53.45%, dev loss: 1.0678, acc: 55.03%.\n",
      "--- epoch: 16 ---\n",
      "training loss: 1.1313, acc: 56.81%, dev loss: 1.3366, acc: 48.32%.\n",
      "--- epoch: 17 ---\n",
      "training loss: 1.1165, acc: 58.32%, dev loss: 1.0944, acc: 58.39%.\n",
      "--- epoch: 18 ---\n",
      "training loss: 1.0501, acc: 59.66%, dev loss: 1.0536, acc: 63.09%.\n",
      "--- epoch: 19 ---\n",
      "training loss: 1.0329, acc: 59.33%, dev loss: 1.0563, acc: 59.73%.\n",
      "--- epoch: 20 ---\n",
      "training loss: 1.1129, acc: 58.15%, dev loss: 1.1043, acc: 57.72%.\n",
      "--- epoch: 21 ---\n",
      "training loss: 1.1188, acc: 57.31%, dev loss: 1.0818, acc: 56.38%.\n",
      "--- epoch: 22 ---\n",
      "training loss: 1.0910, acc: 58.99%, dev loss: 1.0162, acc: 64.43%.\n",
      "--- epoch: 23 ---\n",
      "training loss: 1.0180, acc: 61.68%, dev loss: 1.0405, acc: 59.73%.\n",
      "--- epoch: 24 ---\n",
      "training loss: 0.9681, acc: 64.54%, dev loss: 1.1317, acc: 57.72%.\n",
      "--- epoch: 25 ---\n",
      "training loss: 0.9656, acc: 62.35%, dev loss: 1.2432, acc: 53.02%.\n",
      "--- epoch: 26 ---\n",
      "training loss: 1.0323, acc: 61.34%, dev loss: 0.9047, acc: 64.43%.\n",
      "--- epoch: 27 ---\n",
      "training loss: 0.9347, acc: 64.54%, dev loss: 1.0153, acc: 62.42%.\n",
      "--- epoch: 28 ---\n",
      "training loss: 0.9474, acc: 63.70%, dev loss: 1.0295, acc: 59.06%.\n",
      "--- epoch: 29 ---\n",
      "training loss: 0.9270, acc: 64.37%, dev loss: 1.3985, acc: 48.99%.\n",
      "--- epoch: 30 ---\n",
      "training loss: 0.9688, acc: 64.03%, dev loss: 1.1418, acc: 55.70%.\n",
      "--- epoch: 31 ---\n",
      "training loss: 0.9408, acc: 64.37%, dev loss: 1.1882, acc: 54.36%.\n",
      "--- epoch: 32 ---\n",
      "training loss: 1.0089, acc: 61.34%, dev loss: 0.9854, acc: 59.06%.\n",
      "--- epoch: 33 ---\n",
      "training loss: 0.8809, acc: 67.06%, dev loss: 0.9510, acc: 64.43%.\n",
      "--- epoch: 34 ---\n",
      "training loss: 0.8507, acc: 69.24%, dev loss: 0.9176, acc: 63.76%.\n",
      "--- epoch: 35 ---\n",
      "training loss: 0.9769, acc: 64.20%, dev loss: 0.9941, acc: 62.42%.\n",
      "--- epoch: 36 ---\n",
      "training loss: 0.8645, acc: 67.90%, dev loss: 0.9485, acc: 61.07%.\n",
      "--- epoch: 37 ---\n",
      "training loss: 0.8469, acc: 68.24%, dev loss: 0.9359, acc: 59.73%.\n",
      "--- epoch: 38 ---\n",
      "training loss: 0.8388, acc: 67.56%, dev loss: 0.8864, acc: 61.74%.\n",
      "--- epoch: 39 ---\n",
      "training loss: 0.8032, acc: 70.59%, dev loss: 0.9179, acc: 61.07%.\n",
      "--- epoch: 40 ---\n",
      "training loss: 0.8383, acc: 68.40%, dev loss: 0.9650, acc: 59.06%.\n",
      "--- epoch: 41 ---\n",
      "training loss: 0.7910, acc: 69.58%, dev loss: 1.0586, acc: 58.39%.\n",
      "--- epoch: 42 ---\n",
      "training loss: 0.8195, acc: 70.08%, dev loss: 0.9575, acc: 62.42%.\n",
      "--- epoch: 43 ---\n",
      "training loss: 0.8461, acc: 71.09%, dev loss: 0.9702, acc: 61.07%.\n",
      "--- epoch: 44 ---\n",
      "training loss: 0.7712, acc: 71.26%, dev loss: 0.9851, acc: 61.07%.\n",
      "--- epoch: 45 ---\n",
      "training loss: 0.7543, acc: 72.44%, dev loss: 0.8453, acc: 64.43%.\n",
      "--- epoch: 46 ---\n",
      "training loss: 0.7760, acc: 71.76%, dev loss: 0.9831, acc: 63.76%.\n",
      "--- epoch: 47 ---\n",
      "training loss: 0.7553, acc: 72.61%, dev loss: 0.8934, acc: 65.77%.\n",
      "--- epoch: 48 ---\n",
      "training loss: 0.7141, acc: 72.27%, dev loss: 1.0180, acc: 58.39%.\n",
      "--- epoch: 49 ---\n",
      "training loss: 0.7056, acc: 73.45%, dev loss: 0.9921, acc: 59.73%.\n",
      "--- epoch: 50 ---\n",
      "training loss: 0.7480, acc: 74.96%, dev loss: 0.9223, acc: 60.40%.\n",
      "--- epoch: 51 ---\n",
      "training loss: 0.6602, acc: 77.98%, dev loss: 0.8470, acc: 65.77%.\n",
      "--- epoch: 52 ---\n",
      "training loss: 0.6984, acc: 73.78%, dev loss: 0.8592, acc: 65.10%.\n",
      "--- epoch: 53 ---\n",
      "training loss: 0.6644, acc: 75.97%, dev loss: 0.8350, acc: 68.46%.\n",
      "--- epoch: 54 ---\n",
      "training loss: 0.6166, acc: 78.66%, dev loss: 0.8593, acc: 65.77%.\n",
      "--- epoch: 55 ---\n",
      "training loss: 0.5922, acc: 78.49%, dev loss: 0.7877, acc: 69.80%.\n",
      "--- epoch: 56 ---\n",
      "training loss: 0.6204, acc: 76.13%, dev loss: 0.8514, acc: 69.13%.\n",
      "--- epoch: 57 ---\n",
      "training loss: 0.6648, acc: 74.96%, dev loss: 0.7621, acc: 67.11%.\n",
      "--- epoch: 58 ---\n",
      "training loss: 0.6350, acc: 76.47%, dev loss: 0.7514, acc: 70.47%.\n",
      "--- epoch: 59 ---\n",
      "training loss: 0.6082, acc: 78.82%, dev loss: 0.7539, acc: 71.14%.\n",
      "--- epoch: 60 ---\n",
      "training loss: 0.6113, acc: 78.99%, dev loss: 0.7568, acc: 70.47%.\n",
      "--- epoch: 61 ---\n",
      "training loss: 0.6129, acc: 76.97%, dev loss: 0.7792, acc: 67.79%.\n",
      "--- epoch: 62 ---\n",
      "training loss: 0.5656, acc: 79.50%, dev loss: 0.7964, acc: 69.80%.\n",
      "--- epoch: 63 ---\n",
      "training loss: 0.5590, acc: 78.15%, dev loss: 0.7641, acc: 75.17%.\n",
      "--- epoch: 64 ---\n",
      "training loss: 0.4724, acc: 82.86%, dev loss: 0.7265, acc: 71.14%.\n",
      "--- epoch: 65 ---\n",
      "training loss: 0.5172, acc: 80.00%, dev loss: 0.7362, acc: 72.48%.\n",
      "--- epoch: 66 ---\n",
      "training loss: 0.4927, acc: 81.68%, dev loss: 0.7623, acc: 71.14%.\n",
      "--- epoch: 67 ---\n",
      "training loss: 0.5077, acc: 80.00%, dev loss: 0.7299, acc: 72.48%.\n",
      "--- epoch: 68 ---\n",
      "training loss: 0.5062, acc: 83.19%, dev loss: 0.7912, acc: 68.46%.\n",
      "--- epoch: 69 ---\n",
      "training loss: 0.5132, acc: 79.66%, dev loss: 0.7376, acc: 71.81%.\n",
      "--- epoch: 70 ---\n",
      "training loss: 0.5143, acc: 82.52%, dev loss: 0.7389, acc: 70.47%.\n",
      "--- epoch: 71 ---\n",
      "training loss: 0.4512, acc: 84.37%, dev loss: 0.7932, acc: 69.80%.\n",
      "--- epoch: 72 ---\n",
      "training loss: 0.4884, acc: 84.37%, dev loss: 0.7220, acc: 74.50%.\n",
      "--- epoch: 73 ---\n",
      "training loss: 0.4599, acc: 83.53%, dev loss: 0.7258, acc: 72.48%.\n",
      "--- epoch: 74 ---\n",
      "training loss: 0.4424, acc: 83.36%, dev loss: 0.7293, acc: 72.48%.\n",
      "--- epoch: 75 ---\n",
      "training loss: 0.4511, acc: 85.71%, dev loss: 0.7516, acc: 75.17%.\n",
      "--- epoch: 76 ---\n",
      "training loss: 0.4559, acc: 82.86%, dev loss: 0.7518, acc: 71.14%.\n",
      "--- epoch: 77 ---\n",
      "training loss: 0.4232, acc: 85.38%, dev loss: 0.7233, acc: 73.15%.\n",
      "--- epoch: 78 ---\n",
      "training loss: 0.4298, acc: 86.05%, dev loss: 0.6959, acc: 73.15%.\n",
      "--- epoch: 79 ---\n",
      "training loss: 0.3913, acc: 85.55%, dev loss: 0.7181, acc: 73.83%.\n",
      "--- epoch: 80 ---\n",
      "training loss: 0.4096, acc: 85.88%, dev loss: 0.7507, acc: 71.81%.\n",
      "--- epoch: 81 ---\n",
      "training loss: 0.4320, acc: 84.54%, dev loss: 0.7129, acc: 70.47%.\n",
      "--- epoch: 82 ---\n",
      "training loss: 0.3759, acc: 87.73%, dev loss: 0.6946, acc: 73.83%.\n",
      "--- epoch: 83 ---\n",
      "training loss: 0.3667, acc: 87.23%, dev loss: 0.7056, acc: 71.81%.\n",
      "--- epoch: 84 ---\n",
      "training loss: 0.4053, acc: 86.22%, dev loss: 0.7128, acc: 72.48%.\n",
      "--- epoch: 85 ---\n",
      "training loss: 0.3699, acc: 88.07%, dev loss: 0.6970, acc: 72.48%.\n",
      "--- epoch: 86 ---\n",
      "training loss: 0.3942, acc: 84.87%, dev loss: 0.7255, acc: 73.15%.\n",
      "--- epoch: 87 ---\n",
      "training loss: 0.3606, acc: 87.39%, dev loss: 0.7387, acc: 72.48%.\n",
      "--- epoch: 88 ---\n",
      "training loss: 0.3076, acc: 90.25%, dev loss: 0.7340, acc: 71.81%.\n",
      "--- epoch: 89 ---\n",
      "training loss: 0.3253, acc: 89.08%, dev loss: 0.7200, acc: 73.15%.\n",
      "--- epoch: 90 ---\n",
      "training loss: 0.3275, acc: 87.39%, dev loss: 0.7218, acc: 71.14%.\n",
      "--- epoch: 91 ---\n",
      "training loss: 0.3396, acc: 88.24%, dev loss: 0.7214, acc: 73.15%.\n",
      "--- epoch: 92 ---\n",
      "training loss: 0.3339, acc: 88.57%, dev loss: 0.7139, acc: 70.47%.\n",
      "--- epoch: 93 ---\n",
      "training loss: 0.3409, acc: 88.24%, dev loss: 0.7069, acc: 71.81%.\n",
      "--- epoch: 94 ---\n",
      "training loss: 0.3282, acc: 89.41%, dev loss: 0.7183, acc: 71.81%.\n",
      "--- epoch: 95 ---\n",
      "training loss: 0.3314, acc: 87.39%, dev loss: 0.7062, acc: 71.14%.\n",
      "--- epoch: 96 ---\n",
      "training loss: 0.2938, acc: 89.08%, dev loss: 0.7132, acc: 71.14%.\n",
      "--- epoch: 97 ---\n",
      "training loss: 0.3034, acc: 89.75%, dev loss: 0.7121, acc: 71.14%.\n",
      "--- epoch: 98 ---\n",
      "training loss: 0.3299, acc: 88.57%, dev loss: 0.7109, acc: 71.81%.\n",
      "--- epoch: 99 ---\n",
      "training loss: 0.2920, acc: 89.92%, dev loss: 0.7126, acc: 72.48%.\n",
      "--- epoch: 100 ---\n",
      "training loss: 0.2986, acc: 90.25%, dev loss: 0.7118, acc: 71.81%.\n",
      "best dev acc: 0.7517\n"
     ]
    }
   ],
   "source": [
    "net = MyModel()\n",
    "best_net = train(net, train_data_loader, dev_data_loader)"
   ]
  },
  {
   "cell_type": "code",
   "execution_count": 68,
   "metadata": {},
   "outputs": [
    {
     "data": {
      "text/plain": [
       "<All keys matched successfully>"
      ]
     },
     "execution_count": 68,
     "metadata": {},
     "output_type": "execute_result"
    }
   ],
   "source": [
    "torch.save(best_net, model_path)\n",
    "net.load_state_dict(torch.load(model_path))"
   ]
  },
  {
   "cell_type": "markdown",
   "metadata": {},
   "source": [
    "#### TEST"
   ]
  },
  {
   "cell_type": "code",
   "execution_count": 69,
   "metadata": {},
   "outputs": [],
   "source": [
    "def test(model, test_data_loader):\n",
    "    test_stat = Stat(training=False)\n",
    "    model.eval()\n",
    "    with torch.no_grad():\n",
    "        for batch in test_data_loader:\n",
    "            data, labels = batch[0], batch[1]\n",
    "            pred_outputs = model(data)\n",
    "            test_stat.add(pred_outputs, labels, 0)\n",
    "\n",
    "    report = classification_report(\n",
    "        test_stat.labels,\n",
    "        test_stat.pred_labels,\n",
    "        target_names=class_list,\n",
    "        digits=4,\n",
    "        zero_division=0,\n",
    "    )\n",
    "    print(report)"
   ]
  },
  {
   "cell_type": "code",
   "execution_count": 70,
   "metadata": {},
   "outputs": [
    {
     "data": {
      "text/plain": [
       "(torch.Size([6, 3, 100, 100]), torch.Size([6]))"
      ]
     },
     "execution_count": 70,
     "metadata": {},
     "output_type": "execute_result"
    }
   ],
   "source": [
    "path_test = '../TestImages/'\n",
    "imgs=[]\n",
    "for im in glob.glob(path_test+'/*.jpg'):\n",
    "    img=cv2.imread(im)           \n",
    "    img=cv2.resize(img,(w,h)) \n",
    "    imgs.append(img)  \n",
    "imgs = np.asarray(imgs,np.float32)    \n",
    "\n",
    "test_data = imgs / 255\n",
    "test_label = [x for x in range(len(test_data))]\n",
    "\n",
    "test_data = torch.FloatTensor(test_data).permute(0, 3, 1, 2)\n",
    "test_label = torch.LongTensor(test_label)\n",
    "test_data.shape, test_label.shape"
   ]
  },
  {
   "cell_type": "code",
   "execution_count": 72,
   "metadata": {},
   "outputs": [
    {
     "name": "stdout",
     "output_type": "stream",
     "text": [
      "                precision    recall  f1-score   support\n",
      "\n",
      "           bee     0.5000    1.0000    0.6667         1\n",
      "    blackberry     1.0000    1.0000    1.0000         1\n",
      "       blanket     1.0000    1.0000    1.0000         1\n",
      "bougainvilliea     1.0000    1.0000    1.0000         1\n",
      "      bromelia     0.0000    0.0000    0.0000         1\n",
      "      foxglove     1.0000    1.0000    1.0000         1\n",
      "\n",
      "      accuracy                         0.8333         6\n",
      "     macro avg     0.7500    0.8333    0.7778         6\n",
      "  weighted avg     0.7500    0.8333    0.7778         6\n",
      "\n"
     ]
    }
   ],
   "source": [
    "test_set = FlowerDataset(test_data, test_label)\n",
    "test_data_loader = DataLoader(test_set, batch_size=len(test_data), shuffle=False)\n",
    "\n",
    "test(net, test_data_loader)"
   ]
  },
  {
   "cell_type": "code",
   "execution_count": null,
   "metadata": {},
   "outputs": [],
   "source": [
    "# net = MyModel()\n",
    "# net.load_state_dict(torch.load(model_path))\n",
    "# test(net, test_data_loader)"
   ]
  }
 ],
 "metadata": {
  "interpreter": {
   "hash": "b0a0aef9578cc1edfecec80d6a58c391f944f9223b5cad1c1ac9c6fdf88bcc20"
  },
  "kernelspec": {
   "display_name": "Python 3.7.11 ('basework')",
   "language": "python",
   "name": "python3"
  },
  "language_info": {
   "codemirror_mode": {
    "name": "ipython",
    "version": 3
   },
   "file_extension": ".py",
   "mimetype": "text/x-python",
   "name": "python",
   "nbconvert_exporter": "python",
   "pygments_lexer": "ipython3",
   "version": "3.7.11"
  },
  "orig_nbformat": 4
 },
 "nbformat": 4,
 "nbformat_minor": 2
}
