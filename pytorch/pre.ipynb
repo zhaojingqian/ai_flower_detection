{
 "cells": [
  {
   "cell_type": "code",
   "execution_count": 10,
   "metadata": {},
   "outputs": [],
   "source": [
    "import glob\n",
    "import os\n",
    "\n",
    "import cv2\n",
    "import numpy as np\n",
    "\n",
    "import torch\n",
    "import torch.nn as nn\n",
    "from torch.utils.data import Dataset\n",
    "from torch.utils.data import DataLoader\n",
    "\n",
    "device = torch.device('cuda' if torch.cuda.is_available() else 'cpu')"
   ]
  },
  {
   "cell_type": "code",
   "execution_count": 11,
   "metadata": {},
   "outputs": [],
   "source": [
    "w = 100\n",
    "h = 100\n",
    "c = 3\n",
    "\n",
    "seed = 109\n",
    "np.random.seed(seed)\n",
    "torch.manual_seed(seed)\n",
    "torch.cuda.manual_seed(seed)\n",
    "# When running on the CuDNN backend, two further options must be set\n",
    "torch.backends.cudnn.deterministic = True\n",
    "torch.backends.cudnn.benchmark = False\n",
    "os.environ['PYTHONHASHSEED'] = str(seed)"
   ]
  },
  {
   "cell_type": "code",
   "execution_count": 12,
   "metadata": {},
   "outputs": [],
   "source": [
    "class FlowerDataset(Dataset):\n",
    "    def __init__(self, data, label):\n",
    "        super(FlowerDataset, self).__init__()\n",
    "        self.data = data.to(device)\n",
    "        self.label = label.to(device)\n",
    "    \n",
    "    def __len__(self):\n",
    "        return len(self.data)\n",
    "\n",
    "    def __getitem__(self, idx):\n",
    "        return self.data[idx], self.label[idx]"
   ]
  },
  {
   "cell_type": "code",
   "execution_count": 13,
   "metadata": {},
   "outputs": [],
   "source": [
    "class MyModel(nn.Module):\n",
    "    def __init__(self):\n",
    "        super(MyModel, self).__init__()\n",
    "\n",
    "        self.conv_model = nn.Sequential(\n",
    "            nn.Conv2d(3, 16, 3, padding=1),\n",
    "            nn.ReLU(),\n",
    "            nn.MaxPool2d(2, 2),\n",
    "            nn.Conv2d(16, 32, 3, padding=1),\n",
    "            nn.ReLU(),\n",
    "            nn.MaxPool2d(2, 2),\n",
    "            nn.Conv2d(32, 64, 3, padding=1),\n",
    "            nn.ReLU(),\n",
    "            nn.MaxPool2d(2, 2),\n",
    "        )\n",
    "\n",
    "        # self.attention = SelfAttention(12*12)\n",
    "\n",
    "        self.fc = nn.Sequential(\n",
    "            nn.Dropout(0.5),\n",
    "            nn.Linear(12*12*64, 128),\n",
    "            nn.ReLU(),\n",
    "            nn.Dropout(0.5),\n",
    "            nn.Linear(128, 6),\n",
    "        )\n",
    "\n",
    "    def forward(self, data):\n",
    "        x = self.conv_model(data)\n",
    "        x = x.view(x.size()[0],-1)\n",
    "        x = self.fc(x)\n",
    "        return x"
   ]
  },
  {
   "cell_type": "code",
   "execution_count": 14,
   "metadata": {},
   "outputs": [],
   "source": [
    "class Stat:\n",
    "    def __init__(self, training, writer=None):\n",
    "        self.step = 0\n",
    "        self.loss = []\n",
    "        self.labels = []\n",
    "        self.pred_labels = []\n",
    "        self.training = training\n",
    "        self.writer = writer\n",
    "    \n",
    "    def add(self, pred, labels, loss):\n",
    "        labels = labels.cpu().numpy()\n",
    "        pred = pred.cpu().detach().numpy()\n",
    "        pred_labels = np.argmax(pred, axis = 1)\n",
    "        self.loss.append(loss)\n",
    "        self.labels.extend(labels)\n",
    "        self.pred_labels.extend(pred_labels)"
   ]
  },
  {
   "cell_type": "code",
   "execution_count": 15,
   "metadata": {},
   "outputs": [],
   "source": [
    "def test(model, test_data_loader):\n",
    "    test_stat = Stat(training=False)\n",
    "    model.eval()\n",
    "    with torch.no_grad():\n",
    "        for batch in test_data_loader:\n",
    "            data, labels = batch[0], batch[1]\n",
    "            pred_outputs = model(data)\n",
    "            test_stat.add(pred_outputs, labels, 0)\n",
    "    return test_stat.pred_labels"
   ]
  },
  {
   "cell_type": "code",
   "execution_count": 16,
   "metadata": {},
   "outputs": [],
   "source": [
    "path_test = '../TestImages/'\n",
    "imgs=[]\n",
    "for im in glob.glob(path_test+'/*.jpg'):\n",
    "    img=cv2.imread(im)           \n",
    "    img=cv2.resize(img,(w,h)) \n",
    "    imgs.append(img)  \n",
    "imgs = np.asarray(imgs,np.float32)    \n",
    "\n",
    "test_data = imgs / 255\n",
    "test_label = [x for x in range(len(test_data))]\n",
    "\n",
    "test_data = torch.FloatTensor(test_data).permute(0, 3, 1, 2)\n",
    "test_label = torch.LongTensor(test_label)\n",
    "test_set = FlowerDataset(test_data, test_label)\n",
    "test_data_loader = DataLoader(test_set, batch_size=len(test_data), shuffle=False)"
   ]
  },
  {
   "cell_type": "code",
   "execution_count": 17,
   "metadata": {},
   "outputs": [
    {
     "name": "stdout",
     "output_type": "stream",
     "text": [
      "acc = 1.0\n"
     ]
    }
   ],
   "source": [
    "K = 5\n",
    "models = []\n",
    "for i in range(K):\n",
    "    net = MyModel()\n",
    "    net.load_state_dict(torch.load(f'../cloud_model/fold{i}-flower_mlp.pt', map_location=torch.device(device)))\n",
    "    models.append(net)\n",
    "\n",
    "pred_labels = []\n",
    "for net in models:\n",
    "    pred_label = test(net, test_data_loader)\n",
    "    pred_labels.append(pred_label)\n",
    "pred_labels = np.array(pred_labels).T\n",
    "# 这样pred_labels的行向量为第i个样本的预测值\n",
    "final_pred = []\n",
    "for sample in pred_labels:\n",
    "    final_pred.append(np.argmax(np.bincount(sample)))\n",
    "\n",
    "true_label = [1, 3, 4, 0, 2, 5]\n",
    "\n",
    "correct = [1 if pred_label==true_label[idx] else 0 for idx, pred_label in enumerate(final_pred)]\n",
    "print(f'acc = {sum(correct)/len(correct)}')"
   ]
  }
 ],
 "metadata": {
  "interpreter": {
   "hash": "b0a0aef9578cc1edfecec80d6a58c391f944f9223b5cad1c1ac9c6fdf88bcc20"
  },
  "kernelspec": {
   "display_name": "Python 3.7.11 ('basework')",
   "language": "python",
   "name": "python3"
  },
  "language_info": {
   "codemirror_mode": {
    "name": "ipython",
    "version": 3
   },
   "file_extension": ".py",
   "mimetype": "text/x-python",
   "name": "python",
   "nbconvert_exporter": "python",
   "pygments_lexer": "ipython3",
   "version": "3.7.11"
  },
  "orig_nbformat": 4
 },
 "nbformat": 4,
 "nbformat_minor": 2
}
